{
 "cells": [
  {
   "cell_type": "code",
   "execution_count": 1,
   "metadata": {},
   "outputs": [
    {
     "name": "stderr",
     "output_type": "stream",
     "text": [
      "Using TensorFlow backend.\n"
     ]
    }
   ],
   "source": [
    "import keras\n",
    "import cv2\n",
    "from keras.optimizers import SGD\n",
    "from keras.models import Sequential\n",
    "from keras.layers import Dense, Activation, Dropout, Flatten\n",
    "from keras.preprocessing.image import ImageDataGenerator,load_img,img_to_array\n",
    "from keras.layers import Conv2D\n",
    "from keras.layers import MaxPooling2D\n",
    "from keras.models import Sequential, Model\n",
    "from keras import optimizers"
   ]
  },
  {
   "cell_type": "code",
   "execution_count": 2,
   "metadata": {
    "collapsed": true
   },
   "outputs": [],
   "source": [
    "def VGG_16(weights_path=None):\n",
    "    \n",
    "    model = Sequential()\n",
    "    model.add(Conv2D(64, (3, 3), activation='relu', padding='same', name='block1_conv1',input_shape=(150,150,3)))\n",
    "    model.add(Conv2D(64, (3, 3), activation='relu', padding='same', name='block1_conv2'))\n",
    "    model.add(MaxPooling2D((2, 2), strides=(2, 2), name='block1_pool'))\n",
    "\n",
    "    # Block 2\n",
    "    model.add(Conv2D(128, (3, 3), activation='relu', padding='same', name='block2_conv1'))\n",
    "    model.add(Conv2D(128, (3, 3), activation='relu', padding='same', name='block2_conv2'))\n",
    "    model.add(MaxPooling2D((2, 2), strides=(2, 2), name='block2_pool'))\n",
    "\n",
    "    # Block 3\n",
    "    model.add(Conv2D(256, (3, 3), activation='relu', padding='same', name='block3_conv1'))\n",
    "    model.add(Conv2D(256, (3, 3), activation='relu', padding='same', name='block3_conv2'))\n",
    "    model.add(Conv2D(256, (3, 3), activation='relu', padding='same', name='block3_conv3'))\n",
    "    model.add(MaxPooling2D((2, 2), strides=(2, 2), name='block3_pool'))\n",
    "\n",
    "    # Block 4\n",
    "    model.add(Conv2D(512, (3, 3), activation='relu', padding='same', name='block4_conv1'))\n",
    "    model.add(Conv2D(512, (3, 3), activation='relu', padding='same', name='block4_conv2'))\n",
    "    model.add(Conv2D(512, (3, 3), activation='relu', padding='same', name='block4_conv3'))\n",
    "    model.add(MaxPooling2D((2, 2), strides=(2, 2), name='block4_pool'))\n",
    "\n",
    "    # Block 5\n",
    "    model.add(Conv2D(512, (3, 3), activation='relu', padding='same', name='block5_conv1'))\n",
    "    model.add(Conv2D(512, (3, 3), activation='relu', padding='same', name='block5_conv2'))\n",
    "    model.add(Conv2D(512, (3, 3), activation='relu', padding='same', name='block5_conv3'))\n",
    "    model.add(MaxPooling2D((2, 2), strides=(2, 2), name='block5_pool'))\n",
    "    \n",
    "    #model.add(Flatten(name='flatten'))\n",
    "    #model.add(Dense(4096, activation='relu', name='fc1'))\n",
    "    #model.add(Dense(4096, activation='relu', name='fc2'))\n",
    "    #model.add(Dense(1000, activation='softmax', name='predictions'))\n",
    "    \n",
    "\n",
    "    if weights_path:\n",
    "        model.load_weights(weights_path)\n",
    "\n",
    "    return model"
   ]
  },
  {
   "cell_type": "code",
   "execution_count": 3,
   "metadata": {
    "collapsed": true
   },
   "outputs": [],
   "source": [
    "train_datagen = ImageDataGenerator(rescale=1./255)"
   ]
  },
  {
   "cell_type": "code",
   "execution_count": 4,
   "metadata": {},
   "outputs": [
    {
     "name": "stdout",
     "output_type": "stream",
     "text": [
      "_________________________________________________________________\n",
      "Layer (type)                 Output Shape              Param #   \n",
      "=================================================================\n",
      "block1_conv1 (Conv2D)        (None, 150, 150, 64)      1792      \n",
      "_________________________________________________________________\n",
      "block1_conv2 (Conv2D)        (None, 150, 150, 64)      36928     \n",
      "_________________________________________________________________\n",
      "block1_pool (MaxPooling2D)   (None, 75, 75, 64)        0         \n",
      "_________________________________________________________________\n",
      "block2_conv1 (Conv2D)        (None, 75, 75, 128)       73856     \n",
      "_________________________________________________________________\n",
      "block2_conv2 (Conv2D)        (None, 75, 75, 128)       147584    \n",
      "_________________________________________________________________\n",
      "block2_pool (MaxPooling2D)   (None, 37, 37, 128)       0         \n",
      "_________________________________________________________________\n",
      "block3_conv1 (Conv2D)        (None, 37, 37, 256)       295168    \n",
      "_________________________________________________________________\n",
      "block3_conv2 (Conv2D)        (None, 37, 37, 256)       590080    \n",
      "_________________________________________________________________\n",
      "block3_conv3 (Conv2D)        (None, 37, 37, 256)       590080    \n",
      "_________________________________________________________________\n",
      "block3_pool (MaxPooling2D)   (None, 18, 18, 256)       0         \n",
      "_________________________________________________________________\n",
      "block4_conv1 (Conv2D)        (None, 18, 18, 512)       1180160   \n",
      "_________________________________________________________________\n",
      "block4_conv2 (Conv2D)        (None, 18, 18, 512)       2359808   \n",
      "_________________________________________________________________\n",
      "block4_conv3 (Conv2D)        (None, 18, 18, 512)       2359808   \n",
      "_________________________________________________________________\n",
      "block4_pool (MaxPooling2D)   (None, 9, 9, 512)         0         \n",
      "_________________________________________________________________\n",
      "block5_conv1 (Conv2D)        (None, 9, 9, 512)         2359808   \n",
      "_________________________________________________________________\n",
      "block5_conv2 (Conv2D)        (None, 9, 9, 512)         2359808   \n",
      "_________________________________________________________________\n",
      "block5_conv3 (Conv2D)        (None, 9, 9, 512)         2359808   \n",
      "_________________________________________________________________\n",
      "block5_pool (MaxPooling2D)   (None, 4, 4, 512)         0         \n",
      "=================================================================\n",
      "Total params: 14,714,688\n",
      "Trainable params: 14,714,688\n",
      "Non-trainable params: 0\n",
      "_________________________________________________________________\n"
     ]
    }
   ],
   "source": [
    "import numpy as np\n",
    "model_vgg = VGG_16('/home/nishanth/Downloads/vgg16_weights_tf_dim_ordering_tf_kernels_notop.h5')\n",
    "model_vgg.summary()\n"
   ]
  },
  {
   "cell_type": "code",
   "execution_count": 24,
   "metadata": {},
   "outputs": [
    {
     "name": "stdout",
     "output_type": "stream",
     "text": [
      "Found 2129 images belonging to 2 classes.\n"
     ]
    }
   ],
   "source": [
    "train_gen = train_datagen.flow_from_directory('/media/nishanth/E/bigdatathings/datascience/projects/data/train',\n",
    "                                              target_size = (150,150),\n",
    "                                              batch_size = 64,\n",
    "                                              class_mode = None,\n",
    "                                              shuffle = False)\n",
    "\n",
    "\n",
    "bottleneck_features_train = model_vgg.predict_generator(train_gen, verbose=1)\n",
    "np.save(open('bottleneck_features_train.npy', 'w'), bottleneck_features_train)\n",
    "\n"
   ]
  },
  {
   "cell_type": "code",
   "execution_count": 5,
   "metadata": {},
   "outputs": [
    {
     "name": "stdout",
     "output_type": "stream",
     "text": [
      "Found 1600 images belonging to 2 classes.\n",
      "25/25 [==============================] - 616s 25s/step\n"
     ]
    }
   ],
   "source": [
    "valid_gen  = train_datagen.flow_from_directory('/media/nishanth/E/bigdatathings/datascience/projects/catVSdogs/test',\n",
    "                                              target_size = (150,150),\n",
    "                                              batch_size = 64,\n",
    "                                              class_mode = None,\n",
    "                                              shuffle=False)\n",
    "bottleneck_features_validation = model_vgg.predict_generator(valid_gen, verbose=1)\n",
    "np.save(open('bottleneck_features_validation.npy', 'w'), bottleneck_features_validation)"
   ]
  },
  {
   "cell_type": "code",
   "execution_count": 6,
   "metadata": {},
   "outputs": [
    {
     "name": "stdout",
     "output_type": "stream",
     "text": [
      "(1600, 4, 4, 512)\n"
     ]
    }
   ],
   "source": [
    "print bottleneck_features_validation.shape"
   ]
  },
  {
   "cell_type": "code",
   "execution_count": 5,
   "metadata": {
    "collapsed": true
   },
   "outputs": [],
   "source": [
    "train_data = np.load(open('bottleneck_features_train.npy'))\n",
    "train_labels = np.array([0] * 1023 + [1] * 1106)\n",
    "\n",
    "validation_data = np.load(open('bottleneck_features_validation.npy'))\n",
    "validation_labels = np.array([0] * 800 + [1] * 800)\n"
   ]
  },
  {
   "cell_type": "code",
   "execution_count": 6,
   "metadata": {
    "collapsed": true
   },
   "outputs": [],
   "source": [
    "def FC():\n",
    "    model = Sequential()\n",
    "    model.add(Flatten(input_shape=train_data.shape[1:]))\n",
    "    model.add(Dense(256,activation='relu'))\n",
    "    model.add(Dropout(0.5))\n",
    "    model.add(Dense(1,activation = 'sigmoid'))\n",
    "    return model"
   ]
  },
  {
   "cell_type": "code",
   "execution_count": 7,
   "metadata": {
    "collapsed": true
   },
   "outputs": [],
   "source": [
    "model = FC()\n",
    "model.compile(optimizer='rmsprop',\n",
    "              loss='binary_crossentropy',\n",
    "              metrics=['accuracy'])"
   ]
  },
  {
   "cell_type": "code",
   "execution_count": 10,
   "metadata": {},
   "outputs": [
    {
     "name": "stdout",
     "output_type": "stream",
     "text": [
      "Train on 2129 samples, validate on 1600 samples\n",
      "Epoch 1/20\n",
      "2129/2129 [==============================] - 2s 889us/step - loss: 0.0622 - acc: 0.9756 - val_loss: 0.3793 - val_acc: 0.8862\n",
      "Epoch 2/20\n",
      "2129/2129 [==============================] - 2s 840us/step - loss: 0.0305 - acc: 0.9911 - val_loss: 0.4059 - val_acc: 0.8875\n",
      "Epoch 3/20\n",
      "2129/2129 [==============================] - 2s 857us/step - loss: 0.0207 - acc: 0.9930 - val_loss: 0.8107 - val_acc: 0.8350\n",
      "Epoch 4/20\n",
      "2129/2129 [==============================] - 2s 855us/step - loss: 0.0438 - acc: 0.9798 - val_loss: 0.4257 - val_acc: 0.8938\n",
      "Epoch 5/20\n",
      "2129/2129 [==============================] - 2s 868us/step - loss: 0.0338 - acc: 0.9854 - val_loss: 0.4358 - val_acc: 0.9019\n",
      "Epoch 6/20\n",
      "2129/2129 [==============================] - 2s 855us/step - loss: 0.0356 - acc: 0.9854 - val_loss: 0.4357 - val_acc: 0.8900\n",
      "Epoch 7/20\n",
      "2129/2129 [==============================] - 2s 873us/step - loss: 0.0540 - acc: 0.9854 - val_loss: 0.4484 - val_acc: 0.8925\n",
      "Epoch 8/20\n",
      "2129/2129 [==============================] - 2s 873us/step - loss: 0.0160 - acc: 0.9948 - val_loss: 0.4356 - val_acc: 0.9031\n",
      "Epoch 9/20\n",
      "2129/2129 [==============================] - 2s 898us/step - loss: 0.0538 - acc: 0.9850 - val_loss: 0.4574 - val_acc: 0.8962\n",
      "Epoch 10/20\n",
      "2129/2129 [==============================] - 2s 917us/step - loss: 0.0183 - acc: 0.9939 - val_loss: 0.4927 - val_acc: 0.8875\n",
      "Epoch 11/20\n",
      "2129/2129 [==============================] - 2s 870us/step - loss: 0.0055 - acc: 0.9991 - val_loss: 0.5033 - val_acc: 0.9006\n",
      "Epoch 12/20\n",
      "2129/2129 [==============================] - 2s 886us/step - loss: 0.0481 - acc: 0.9859 - val_loss: 0.4861 - val_acc: 0.9038\n",
      "Epoch 13/20\n",
      "2129/2129 [==============================] - 2s 899us/step - loss: 0.0399 - acc: 0.9878 - val_loss: 0.5113 - val_acc: 0.8975\n",
      "Epoch 14/20\n",
      "2129/2129 [==============================] - 2s 901us/step - loss: 0.0086 - acc: 0.9972 - val_loss: 0.6805 - val_acc: 0.8638\n",
      "Epoch 15/20\n",
      "2129/2129 [==============================] - 2s 911us/step - loss: 0.0089 - acc: 0.9977 - val_loss: 0.6223 - val_acc: 0.8800\n",
      "Epoch 16/20\n",
      "2129/2129 [==============================] - 2s 908us/step - loss: 0.0399 - acc: 0.9864 - val_loss: 0.5378 - val_acc: 0.8975\n",
      "Epoch 17/20\n",
      "2129/2129 [==============================] - 2s 905us/step - loss: 0.0082 - acc: 0.9972 - val_loss: 0.5717 - val_acc: 0.8944\n",
      "Epoch 18/20\n",
      "2129/2129 [==============================] - 2s 943us/step - loss: 0.0195 - acc: 0.9939 - val_loss: 0.5931 - val_acc: 0.8894\n",
      "Epoch 19/20\n",
      "2129/2129 [==============================] - 2s 908us/step - loss: 0.0119 - acc: 0.9972 - val_loss: 0.5470 - val_acc: 0.9025\n",
      "Epoch 20/20\n",
      "2129/2129 [==============================] - 2s 938us/step - loss: 0.0137 - acc: 0.9944 - val_loss: 0.5555 - val_acc: 0.8981\n"
     ]
    },
    {
     "data": {
      "text/plain": [
       "<keras.callbacks.History at 0x7f2002225850>"
      ]
     },
     "execution_count": 10,
     "metadata": {},
     "output_type": "execute_result"
    }
   ],
   "source": [
    "model.fit(train_data, train_labels,\n",
    "          epochs=20,\n",
    "          batch_size=64,\n",
    "          validation_data=(validation_data, validation_labels))"
   ]
  },
  {
   "cell_type": "code",
   "execution_count": 11,
   "metadata": {},
   "outputs": [
    {
     "name": "stdout",
     "output_type": "stream",
     "text": [
      "1600/1600 [==============================] - 0s 208us/step\n",
      "[0.55553967535495763, 0.89812499999999995]\n"
     ]
    }
   ],
   "source": [
    "scores = model.evaluate(validation_data, validation_labels, verbose=1)\n",
    "print scores"
   ]
  },
  {
   "cell_type": "code",
   "execution_count": 12,
   "metadata": {
    "collapsed": true
   },
   "outputs": [],
   "source": [
    "model.save_weights('bottleneck_fc_cats_model.h5')"
   ]
  },
  {
   "cell_type": "code",
   "execution_count": 13,
   "metadata": {
    "collapsed": true
   },
   "outputs": [],
   "source": [
    "model.load_weights('bottleneck_fc_cats_model.h5')"
   ]
  },
  {
   "cell_type": "code",
   "execution_count": 14,
   "metadata": {
    "scrolled": true
   },
   "outputs": [
    {
     "name": "stdout",
     "output_type": "stream",
     "text": [
      "_________________________________________________________________\n",
      "Layer (type)                 Output Shape              Param #   \n",
      "=================================================================\n",
      "block1_conv1 (Conv2D)        (None, 150, 150, 64)      1792      \n",
      "_________________________________________________________________\n",
      "block1_conv2 (Conv2D)        (None, 150, 150, 64)      36928     \n",
      "_________________________________________________________________\n",
      "block1_pool (MaxPooling2D)   (None, 75, 75, 64)        0         \n",
      "_________________________________________________________________\n",
      "block2_conv1 (Conv2D)        (None, 75, 75, 128)       73856     \n",
      "_________________________________________________________________\n",
      "block2_conv2 (Conv2D)        (None, 75, 75, 128)       147584    \n",
      "_________________________________________________________________\n",
      "block2_pool (MaxPooling2D)   (None, 37, 37, 128)       0         \n",
      "_________________________________________________________________\n",
      "block3_conv1 (Conv2D)        (None, 37, 37, 256)       295168    \n",
      "_________________________________________________________________\n",
      "block3_conv2 (Conv2D)        (None, 37, 37, 256)       590080    \n",
      "_________________________________________________________________\n",
      "block3_conv3 (Conv2D)        (None, 37, 37, 256)       590080    \n",
      "_________________________________________________________________\n",
      "block3_pool (MaxPooling2D)   (None, 18, 18, 256)       0         \n",
      "_________________________________________________________________\n",
      "block4_conv1 (Conv2D)        (None, 18, 18, 512)       1180160   \n",
      "_________________________________________________________________\n",
      "block4_conv2 (Conv2D)        (None, 18, 18, 512)       2359808   \n",
      "_________________________________________________________________\n",
      "block4_conv3 (Conv2D)        (None, 18, 18, 512)       2359808   \n",
      "_________________________________________________________________\n",
      "block4_pool (MaxPooling2D)   (None, 9, 9, 512)         0         \n",
      "_________________________________________________________________\n",
      "block5_conv1 (Conv2D)        (None, 9, 9, 512)         2359808   \n",
      "_________________________________________________________________\n",
      "block5_conv2 (Conv2D)        (None, 9, 9, 512)         2359808   \n",
      "_________________________________________________________________\n",
      "block5_conv3 (Conv2D)        (None, 9, 9, 512)         2359808   \n",
      "_________________________________________________________________\n",
      "block5_pool (MaxPooling2D)   (None, 4, 4, 512)         0         \n",
      "_________________________________________________________________\n",
      "sequential_2 (Sequential)    (None, 1)                 2097665   \n",
      "=================================================================\n",
      "Total params: 16,812,353\n",
      "Trainable params: 16,812,353\n",
      "Non-trainable params: 0\n",
      "_________________________________________________________________\n",
      "None\n"
     ]
    }
   ],
   "source": [
    "model_vgg.add(model)\n",
    "print model_vgg.summary()\n"
   ]
  },
  {
   "cell_type": "code",
   "execution_count": 18,
   "metadata": {
    "collapsed": true
   },
   "outputs": [],
   "source": [
    "for layer in model_vgg.layers[:10]:\n",
    "    layer.trainable = False"
   ]
  },
  {
   "cell_type": "code",
   "execution_count": 19,
   "metadata": {
    "collapsed": true
   },
   "outputs": [],
   "source": [
    "model_vgg.compile(loss='binary_crossentropy',\n",
    "              optimizer=optimizers.SGD(lr=1e-4, momentum=0.9),\n",
    "              metrics=['accuracy'])"
   ]
  },
  {
   "cell_type": "code",
   "execution_count": 20,
   "metadata": {
    "collapsed": true
   },
   "outputs": [],
   "source": [
    "train_datagen = ImageDataGenerator(\n",
    "    rescale=1. / 255,\n",
    "    shear_range=0.2,\n",
    "    zoom_range=0.2,\n",
    "    horizontal_flip=True)"
   ]
  },
  {
   "cell_type": "code",
   "execution_count": 22,
   "metadata": {},
   "outputs": [
    {
     "name": "stdout",
     "output_type": "stream",
     "text": [
      "Found 2129 images belonging to 2 classes.\n",
      "Found 1600 images belonging to 2 classes.\n"
     ]
    }
   ],
   "source": [
    "\n",
    "train_data = train_datagen.flow_from_directory('/media/nishanth/E/bigdatathings/datascience/projects/data/train',\n",
    "                                              target_size = (150,150),\n",
    "                                              batch_size = 16,\n",
    "                                              class_mode = 'binary')\n",
    "valid_data = train_datagen.flow_from_directory('/media/nishanth/E/bigdatathings/datascience/projects/catVSdogs/test',\n",
    "                                              target_size = (150,150),\n",
    "                                              batch_size = 16,\n",
    "                                              class_mode = 'binary')"
   ]
  },
  {
   "cell_type": "code",
   "execution_count": 23,
   "metadata": {},
   "outputs": [
    {
     "name": "stdout",
     "output_type": "stream",
     "text": [
      "Epoch 1/3\n",
      "134/134 [==============================] - 2038s 15s/step - loss: 0.3339 - acc: 0.8885 - val_loss: 0.3371 - val_acc: 0.8894\n",
      "Epoch 2/3\n",
      "134/134 [==============================] - 2097s 16s/step - loss: 0.1764 - acc: 0.9375 - val_loss: 0.3573 - val_acc: 0.8594\n",
      "Epoch 3/3\n",
      "134/134 [==============================] - 2049s 15s/step - loss: 0.1329 - acc: 0.9557 - val_loss: 0.2284 - val_acc: 0.9125\n"
     ]
    },
    {
     "data": {
      "text/plain": [
       "<keras.callbacks.History at 0x7f2002070310>"
      ]
     },
     "execution_count": 23,
     "metadata": {},
     "output_type": "execute_result"
    }
   ],
   "source": [
    "model_vgg.fit_generator(\n",
    "    train_data,\n",
    "    epochs=3,\n",
    "    validation_data=valid_data) "
   ]
  },
  {
   "cell_type": "code",
   "execution_count": 25,
   "metadata": {},
   "outputs": [
    {
     "data": {
      "image/png": "[encoded data removed]",
      "text/plain": [
       "<matplotlib.figure.Figure at 0x7f1fff41e710>"
      ]
     },
     "metadata": {},
     "output_type": "display_data"
    }
   ],
   "source": [
    "from os import listdir\n",
    "import matplotlib.pyplot as plt\n",
    "%matplotlib inline\n",
    "path = \"/media/nishanth/E/bigdatathings/datascience/projects/catVSdogs/valid\"\n",
    "files = [f for f in listdir(path)]\n",
    "f_labels = np.array(([0] * 4 + [1] * 4)) \n",
    "fig,axes = plt.subplots(2,4)\n",
    "fig.subplots_adjust(hspace=0.6,wspace=0.6)\n",
    "for n,ax in enumerate(axes.flat):\n",
    "    img = cv2.imread(path + \"/\" + files[n])\n",
    "    img = cv2.resize(img,(150,150))\n",
    "    img = cv2.cvtColor(img,cv2.COLOR_BGR2RGB)\n",
    "    ax.imshow(img)\n",
    "    if f_labels[n] == 0:\n",
    "        cls_name = 'cat'\n",
    "    else:\n",
    "        cls_name = 'dog'\n",
    "    pred = model_vgg.predict(img.astype(float).reshape([-1,150,150,3]))\n",
    "    if pred[0][0] < 0.5:\n",
    "        pred_name = \"cat\"\n",
    "    else:\n",
    "        pred_name = \"dog\"\n",
    "    ax.set_xlabel(\"True: {0} \\n Pred: {1}\".format(cls_name,pred_name))\n",
    "    ax.set_xticks([])\n",
    "    ax.set_yticks([])\n",
    "plt.show()\n",
    "\n"
   ]
  },
  {
   "cell_type": "code",
   "execution_count": null,
   "metadata": {
    "collapsed": true
   },
   "outputs": [],
   "source": []
  }
 ],
 "metadata": {
  "kernelspec": {
   "display_name": "Python 2",
   "language": "python",
   "name": "python2"
  },
  "language_info": {
   "codemirror_mode": {
    "name": "ipython",
    "version": 2
   },
   "file_extension": ".py",
   "mimetype": "text/x-python",
   "name": "python",
   "nbconvert_exporter": "python",
   "pygments_lexer": "ipython2",
   "version": "2.7.12"
  }
 },
 "nbformat": 4,
 "nbformat_minor": 2
}
