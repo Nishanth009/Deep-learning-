{
  "nbformat": 4,
  "nbformat_minor": 0,
  "metadata": {
    "colab": {
      "name": "VAEcolab.ipynb",
      "version": "0.3.2",
      "provenance": []
    },
    "kernelspec": {
      "name": "python2",
      "display_name": "Python 2"
    },
    "accelerator": "GPU"
  },
  "cells": [
    {
      "metadata": {
        "id": "6qVvNL-8E8OT",
        "colab_type": "code",
        "colab": {
          "base_uri": "https://localhost:8080/",
          "height": 34
        },
        "outputId": "b0d759b9-f86a-440d-bffc-8ddbe0deea2e"
      },
      "cell_type": "code",
      "source": [
        "import tensorflow as tf\n",
        "device_name = tf.test.gpu_device_name()\n",
        "if device_name != '/device:GPU:0':\n",
        "  raise SystemError('GPU device not found')\n",
        "print('Found GPU at: {}'.format(device_name))"
      ],
      "execution_count": 1,
      "outputs": [
        {
          "output_type": "stream",
          "text": [
            "Found GPU at: /device:GPU:0\n"
          ],
          "name": "stdout"
        }
      ]
    },
    {
      "metadata": {
        "id": "saWzUGgLFDQ8",
        "colab_type": "code",
        "colab": {}
      },
      "cell_type": "code",
      "source": [
        "import keras\n",
        "from keras.layers import Input, Dense, Lambda\n",
        "from keras.models import Model\n",
        "from keras.losses import binary_crossentropy\n",
        "from keras.datasets import mnist\n",
        "from keras import optimizers\n",
        "from keras import backend as K\n",
        "import numpy as np\n",
        "import matplotlib.pyplot as plt\n",
        "%matplotlib inline"
      ],
      "execution_count": 0,
      "outputs": []
    },
    {
      "metadata": {
        "id": "yMkaWXUtFTdi",
        "colab_type": "code",
        "colab": {
          "base_uri": "https://localhost:8080/",
          "height": 69
        },
        "outputId": "c18e894d-a12b-4261-b1df-be69f3ccb188"
      },
      "cell_type": "code",
      "source": [
        "(x_train, y_train), (x_test, y_test) = mnist.load_data()"
      ],
      "execution_count": 4,
      "outputs": [
        {
          "output_type": "stream",
          "text": [
            "Downloading data from https://s3.amazonaws.com/img-datasets/mnist.npz\n",
            "11493376/11490434 [==============================] - 1s 0us/step\n",
            "11501568/11490434 [==============================] - 1s 0us/step\n"
          ],
          "name": "stdout"
        }
      ]
    },
    {
      "metadata": {
        "id": "IMBaFQO6Ftci",
        "colab_type": "code",
        "colab": {
          "base_uri": "https://localhost:8080/",
          "height": 34
        },
        "outputId": "c39588f9-1e45-4dfa-ab33-71769ef46073"
      },
      "cell_type": "code",
      "source": [
        "image_dim = x_train.shape[1] * x_train.shape[2]\n",
        "x_train = np.reshape(x_train, [-1, image_dim])\n",
        "x_test = np.reshape(x_test, [-1, image_dim])\n",
        "print x_train.shape, x_test.shape"
      ],
      "execution_count": 5,
      "outputs": [
        {
          "output_type": "stream",
          "text": [
            "(60000, 784) (10000, 784)\n"
          ],
          "name": "stdout"
        }
      ]
    },
    {
      "metadata": {
        "id": "jnVKAk1WFxYk",
        "colab_type": "code",
        "colab": {}
      },
      "cell_type": "code",
      "source": [
        "x_train = x_train.astype('float32') / 255\n",
        "x_test = x_test.astype('float32') / 255"
      ],
      "execution_count": 0,
      "outputs": []
    },
    {
      "metadata": {
        "id": "18j1v9ESFz-6",
        "colab_type": "code",
        "colab": {}
      },
      "cell_type": "code",
      "source": [
        "img_shape = (image_dim, )\n",
        "epoch = 50"
      ],
      "execution_count": 0,
      "outputs": []
    },
    {
      "metadata": {
        "id": "lRAX4GvlF2JA",
        "colab_type": "code",
        "colab": {}
      },
      "cell_type": "code",
      "source": [
        "def sampling(val):\n",
        "    z_m, z_v = val\n",
        "    batch = K.shape(z_m)[0]\n",
        "    dim = K.int_shape(z_m)[1]\n",
        "    ep = K.random_normal(shape=(batch, dim))\n",
        "    return z_m + K.exp(0.5 * z_v) * ep\n",
        "    "
      ],
      "execution_count": 0,
      "outputs": []
    },
    {
      "metadata": {
        "id": "22ebpJ5nGFZm",
        "colab_type": "text"
      },
      "cell_type": "markdown",
      "source": [
        "Encoder\n",
        "\n",
        "---\n"
      ]
    },
    {
      "metadata": {
        "id": "pw_MNyl-F89G",
        "colab_type": "code",
        "colab": {}
      },
      "cell_type": "code",
      "source": [
        "inputs = Input(shape = img_shape)\n",
        "x = Dense(512, activation = 'relu')(inputs)\n",
        "x = Dense(256, activation = 'relu')(x)\n",
        "z_mean = Dense(2)(x)\n",
        "z_var = Dense(2)(x)\n",
        "z_latent = Lambda(sampling, output_shape=(2,))([z_mean, z_var])"
      ],
      "execution_count": 0,
      "outputs": []
    },
    {
      "metadata": {
        "id": "CIBIrFMRGREx",
        "colab_type": "code",
        "colab": {
          "base_uri": "https://localhost:8080/",
          "height": 364
        },
        "outputId": "4f380be9-186a-46ba-de43-fc824179cf0e"
      },
      "cell_type": "code",
      "source": [
        "encoder = Model(inputs, [z_mean, z_var, z_latent], name='encoder')\n",
        "encoder.summary()"
      ],
      "execution_count": 11,
      "outputs": [
        {
          "output_type": "stream",
          "text": [
            "__________________________________________________________________________________________________\n",
            "Layer (type)                    Output Shape         Param #     Connected to                     \n",
            "==================================================================================================\n",
            "input_1 (InputLayer)            (None, 784)          0                                            \n",
            "__________________________________________________________________________________________________\n",
            "dense_1 (Dense)                 (None, 512)          401920      input_1[0][0]                    \n",
            "__________________________________________________________________________________________________\n",
            "dense_2 (Dense)                 (None, 256)          131328      dense_1[0][0]                    \n",
            "__________________________________________________________________________________________________\n",
            "dense_3 (Dense)                 (None, 2)            514         dense_2[0][0]                    \n",
            "__________________________________________________________________________________________________\n",
            "dense_4 (Dense)                 (None, 2)            514         dense_2[0][0]                    \n",
            "__________________________________________________________________________________________________\n",
            "lambda_1 (Lambda)               (None, 2)            0           dense_3[0][0]                    \n",
            "                                                                 dense_4[0][0]                    \n",
            "==================================================================================================\n",
            "Total params: 534,276\n",
            "Trainable params: 534,276\n",
            "Non-trainable params: 0\n",
            "__________________________________________________________________________________________________\n"
          ],
          "name": "stdout"
        }
      ]
    },
    {
      "metadata": {
        "id": "41LQmo6rGTQO",
        "colab_type": "code",
        "colab": {}
      },
      "cell_type": "code",
      "source": [
        ""
      ],
      "execution_count": 0,
      "outputs": []
    },
    {
      "metadata": {
        "id": "R_uKIOSoGWcO",
        "colab_type": "text"
      },
      "cell_type": "markdown",
      "source": [
        "Decoder\n",
        "\n",
        "---"
      ]
    },
    {
      "metadata": {
        "id": "pebXUqw3GY4V",
        "colab_type": "code",
        "colab": {}
      },
      "cell_type": "code",
      "source": [
        "latent_inputs = Input(shape = (2,))\n",
        "x = Dense(256, activation = 'relu')(latent_inputs)\n",
        "x = Dense(512, activation = 'relu')(x)\n",
        "outputs = Dense(img_shape[0], activation = 'sigmoid')(x)"
      ],
      "execution_count": 0,
      "outputs": []
    },
    {
      "metadata": {
        "id": "3Vo2NKuFGb84",
        "colab_type": "code",
        "colab": {
          "base_uri": "https://localhost:8080/",
          "height": 278
        },
        "outputId": "270f04aa-061f-46b8-81d5-844d923548fb"
      },
      "cell_type": "code",
      "source": [
        "decoder = Model(latent_inputs, outputs, name='decoder')\n",
        "decoder.summary()"
      ],
      "execution_count": 13,
      "outputs": [
        {
          "output_type": "stream",
          "text": [
            "_________________________________________________________________\n",
            "Layer (type)                 Output Shape              Param #   \n",
            "=================================================================\n",
            "input_2 (InputLayer)         (None, 2)                 0         \n",
            "_________________________________________________________________\n",
            "dense_5 (Dense)              (None, 256)               768       \n",
            "_________________________________________________________________\n",
            "dense_6 (Dense)              (None, 512)               131584    \n",
            "_________________________________________________________________\n",
            "dense_7 (Dense)              (None, 784)               402192    \n",
            "=================================================================\n",
            "Total params: 534,544\n",
            "Trainable params: 534,544\n",
            "Non-trainable params: 0\n",
            "_________________________________________________________________\n"
          ],
          "name": "stdout"
        }
      ]
    },
    {
      "metadata": {
        "id": "5Xxoke2GGdly",
        "colab_type": "code",
        "colab": {
          "base_uri": "https://localhost:8080/",
          "height": 243
        },
        "outputId": "d0a32559-7768-4d79-af2e-2c6baf009f02"
      },
      "cell_type": "code",
      "source": [
        "outputs = decoder(encoder(inputs)[2])\n",
        "vae = Model(inputs, outputs, name='vae_mlp')\n",
        "vae.summary()"
      ],
      "execution_count": 14,
      "outputs": [
        {
          "output_type": "stream",
          "text": [
            "_________________________________________________________________\n",
            "Layer (type)                 Output Shape              Param #   \n",
            "=================================================================\n",
            "input_1 (InputLayer)         (None, 784)               0         \n",
            "_________________________________________________________________\n",
            "encoder (Model)              [(None, 2), (None, 2), (N 534276    \n",
            "_________________________________________________________________\n",
            "decoder (Model)              (None, 784)               534544    \n",
            "=================================================================\n",
            "Total params: 1,068,820\n",
            "Trainable params: 1,068,820\n",
            "Non-trainable params: 0\n",
            "_________________________________________________________________\n"
          ],
          "name": "stdout"
        }
      ]
    },
    {
      "metadata": {
        "id": "5DQCfQtCGhpN",
        "colab_type": "code",
        "colab": {}
      },
      "cell_type": "code",
      "source": [
        ""
      ],
      "execution_count": 0,
      "outputs": []
    },
    {
      "metadata": {
        "id": "bIh1rKzBGm9E",
        "colab_type": "text"
      },
      "cell_type": "markdown",
      "source": [
        "**Loss**\n",
        "\n",
        "\n",
        "---\n",
        "\n"
      ]
    },
    {
      "metadata": {
        "id": "HAgPVGGRGsac",
        "colab_type": "code",
        "colab": {
          "base_uri": "https://localhost:8080/",
          "height": 72
        },
        "outputId": "9a01956d-ff04-417e-9f8a-480da12d5eb0"
      },
      "cell_type": "code",
      "source": [
        "reconstruction_loss = image_dim * binary_crossentropy(inputs, outputs)\n",
        "kl_div_loss = 1 + z_var - K.square(z_mean) - K.exp(z_var)\n",
        "kl_div_loss = -0.5 * K.sum(kl_div_loss, axis=-1) \n",
        "vae_loss = K.mean(reconstruction_loss + kl_div_loss)\n",
        "vae.add_loss(vae_loss)\n",
        "vae.compile(loss=None, optimizer='adam')"
      ],
      "execution_count": 15,
      "outputs": [
        {
          "output_type": "stream",
          "text": [
            "/usr/local/lib/python2.7/dist-packages/ipykernel_launcher.py:6: UserWarning: Output \"decoder\" missing from loss dictionary. We assume this was done on purpose, and we will not be expecting any data to be passed to \"decoder\" during training.\n",
            "  \n"
          ],
          "name": "stderr"
        }
      ]
    },
    {
      "metadata": {
        "id": "RVX3s3aoGwLB",
        "colab_type": "code",
        "colab": {
          "base_uri": "https://localhost:8080/",
          "height": 1771
        },
        "outputId": "2ba0f6e2-da3e-4ed5-c6bb-2c1ad2e638f3"
      },
      "cell_type": "code",
      "source": [
        "history = vae.fit(x_train,\n",
        "        epochs=epoch,\n",
        "        batch_size=32,\n",
        "        validation_data=(x_test, None))"
      ],
      "execution_count": 16,
      "outputs": [
        {
          "output_type": "stream",
          "text": [
            "Train on 60000 samples, validate on 10000 samples\n",
            "Epoch 1/50\n",
            "60000/60000 [==============================] - 21s 355us/step - loss: 171.0804 - val_loss: 159.2357\n",
            "Epoch 2/50\n",
            "60000/60000 [==============================] - 21s 344us/step - loss: 155.0848 - val_loss: 152.4884\n",
            "Epoch 3/50\n",
            "60000/60000 [==============================] - 21s 354us/step - loss: 150.5146 - val_loss: 149.4713\n",
            "Epoch 4/50\n",
            "60000/60000 [==============================] - 21s 344us/step - loss: 148.0165 - val_loss: 147.7241\n",
            "Epoch 5/50\n",
            "60000/60000 [==============================] - 21s 342us/step - loss: 146.2554 - val_loss: 146.5391\n",
            "Epoch 6/50\n",
            "60000/60000 [==============================] - 21s 343us/step - loss: 145.4801 - val_loss: 145.0681\n",
            "Epoch 7/50\n",
            "60000/60000 [==============================] - 21s 358us/step - loss: 144.3923 - val_loss: 144.4320\n",
            "Epoch 8/50\n",
            "60000/60000 [==============================] - 21s 344us/step - loss: 143.7643 - val_loss: 143.7812\n",
            "Epoch 9/50\n",
            "60000/60000 [==============================] - 20s 341us/step - loss: 143.0700 - val_loss: 143.1998\n",
            "Epoch 10/50\n",
            "60000/60000 [==============================] - 21s 357us/step - loss: 142.5734 - val_loss: 142.9423\n",
            "Epoch 11/50\n",
            "60000/60000 [==============================] - 22s 364us/step - loss: 142.1881 - val_loss: 143.2880\n",
            "Epoch 12/50\n",
            "60000/60000 [==============================] - 22s 364us/step - loss: 141.8048 - val_loss: 141.6121\n",
            "Epoch 13/50\n",
            "60000/60000 [==============================] - 22s 363us/step - loss: 141.4954 - val_loss: 142.0388\n",
            "Epoch 14/50\n",
            "60000/60000 [==============================] - 22s 362us/step - loss: 141.2827 - val_loss: 141.8825\n",
            "Epoch 15/50\n",
            "60000/60000 [==============================] - 21s 356us/step - loss: 140.6880 - val_loss: 141.7736\n",
            "Epoch 16/50\n",
            "60000/60000 [==============================] - 21s 345us/step - loss: 140.4598 - val_loss: 141.4179\n",
            "Epoch 17/50\n",
            "60000/60000 [==============================] - 21s 350us/step - loss: 140.1495 - val_loss: 141.4792\n",
            "Epoch 18/50\n",
            "60000/60000 [==============================] - 21s 354us/step - loss: 139.8117 - val_loss: 141.4013\n",
            "Epoch 19/50\n",
            "60000/60000 [==============================] - 21s 349us/step - loss: 139.5355 - val_loss: 140.7282\n",
            "Epoch 20/50\n",
            "60000/60000 [==============================] - 21s 344us/step - loss: 139.4217 - val_loss: 140.5932\n",
            "Epoch 21/50\n",
            "60000/60000 [==============================] - 21s 346us/step - loss: 139.3573 - val_loss: 141.0175\n",
            "Epoch 22/50\n",
            "60000/60000 [==============================] - 21s 350us/step - loss: 139.1294 - val_loss: 140.8141\n",
            "Epoch 23/50\n",
            "60000/60000 [==============================] - 20s 340us/step - loss: 138.9661 - val_loss: 140.3970\n",
            "Epoch 24/50\n",
            "60000/60000 [==============================] - 20s 340us/step - loss: 139.3845 - val_loss: 140.4587\n",
            "Epoch 25/50\n",
            "60000/60000 [==============================] - 20s 341us/step - loss: 139.0422 - val_loss: 140.0977\n",
            "Epoch 26/50\n",
            "60000/60000 [==============================] - 21s 347us/step - loss: 138.7829 - val_loss: 139.8442\n",
            "Epoch 27/50\n",
            "60000/60000 [==============================] - 21s 349us/step - loss: 138.4043 - val_loss: 140.0481\n",
            "Epoch 28/50\n",
            "60000/60000 [==============================] - 21s 349us/step - loss: 138.2968 - val_loss: 139.6014\n",
            "Epoch 29/50\n",
            "60000/60000 [==============================] - 21s 349us/step - loss: 138.5937 - val_loss: 140.5429\n",
            "Epoch 30/50\n",
            "60000/60000 [==============================] - 21s 348us/step - loss: 138.2663 - val_loss: 139.7279\n",
            "Epoch 31/50\n",
            "60000/60000 [==============================] - 21s 348us/step - loss: 138.0737 - val_loss: 139.2288\n",
            "Epoch 32/50\n",
            "60000/60000 [==============================] - 21s 349us/step - loss: 137.8391 - val_loss: 139.2311\n",
            "Epoch 33/50\n",
            "60000/60000 [==============================] - 21s 349us/step - loss: 137.7974 - val_loss: 139.3583\n",
            "Epoch 34/50\n",
            "60000/60000 [==============================] - 21s 348us/step - loss: 137.9142 - val_loss: 139.8216\n",
            "Epoch 35/50\n",
            "60000/60000 [==============================] - 21s 348us/step - loss: 137.5751 - val_loss: 139.5472\n",
            "Epoch 36/50\n",
            "60000/60000 [==============================] - 21s 352us/step - loss: 137.6779 - val_loss: 140.1134\n",
            "Epoch 37/50\n",
            "60000/60000 [==============================] - 21s 356us/step - loss: 137.6632 - val_loss: 139.2988\n",
            "Epoch 38/50\n",
            "60000/60000 [==============================] - 21s 355us/step - loss: 137.3399 - val_loss: 138.7100\n",
            "Epoch 39/50\n",
            "60000/60000 [==============================] - 21s 345us/step - loss: 137.2175 - val_loss: 139.2071\n",
            "Epoch 40/50\n",
            "60000/60000 [==============================] - 21s 348us/step - loss: 137.0495 - val_loss: 138.9921\n",
            "Epoch 41/50\n",
            "60000/60000 [==============================] - 22s 374us/step - loss: 136.9647 - val_loss: 139.3293\n",
            "Epoch 42/50\n",
            "60000/60000 [==============================] - 22s 368us/step - loss: 137.0192 - val_loss: 139.1241\n",
            "Epoch 43/50\n",
            "60000/60000 [==============================] - 22s 367us/step - loss: 137.1749 - val_loss: 138.5181\n",
            "Epoch 44/50\n",
            "60000/60000 [==============================] - 22s 369us/step - loss: 136.9043 - val_loss: 139.1297\n",
            "Epoch 45/50\n",
            "60000/60000 [==============================] - 22s 361us/step - loss: 136.8643 - val_loss: 139.3760\n",
            "Epoch 46/50\n",
            "60000/60000 [==============================] - 21s 358us/step - loss: 136.6559 - val_loss: 138.6485\n",
            "Epoch 47/50\n",
            "60000/60000 [==============================] - 21s 347us/step - loss: 136.6280 - val_loss: 138.6214\n",
            "Epoch 48/50\n",
            "60000/60000 [==============================] - 21s 347us/step - loss: 136.4960 - val_loss: 138.7439\n",
            "Epoch 49/50\n",
            "60000/60000 [==============================] - 21s 348us/step - loss: 136.5232 - val_loss: 138.2862\n",
            "Epoch 50/50\n",
            "60000/60000 [==============================] - 21s 348us/step - loss: 136.3077 - val_loss: 138.8651\n"
          ],
          "name": "stdout"
        }
      ]
    },
    {
      "metadata": {
        "id": "KbKocqWxG6n4",
        "colab_type": "code",
        "colab": {
          "base_uri": "https://localhost:8080/",
          "height": 294
        },
        "outputId": "8326eff9-6610-4c31-ad25-0da09e645a42"
      },
      "cell_type": "code",
      "source": [
        "plt.plot(history.history['loss'])\n",
        "plt.plot(history.history['val_loss'])\n",
        "plt.title('model loss')\n",
        "plt.ylabel('loss')\n",
        "plt.xlabel('epoch')\n",
        "plt.legend(['train', 'test'], loc='upper right')\n",
        "plt.show()"
      ],
      "execution_count": 18,
      "outputs": [
        {
          "output_type": "display_data",
          "data": {
            "image/png": "[encoded data removed]",
            "text/plain": [
              "<matplotlib.figure.Figure at 0x7f94bb9d7890>"
            ]
          },
          "metadata": {
            "tags": []
          }
        }
      ]
    },
    {
      "metadata": {
        "id": "trj179NTLQtj",
        "colab_type": "code",
        "colab": {
          "base_uri": "https://localhost:8080/",
          "height": 262
        },
        "outputId": "1dd0261b-860d-4266-b425-2954277233a2"
      },
      "cell_type": "code",
      "source": [
        "x_val = x_train[8:16]\n",
        "gen_imgs = vae.predict(x_val)\n",
        "fig,axes = plt.subplots(4,2)\n",
        "fig.subplots_adjust(hspace=0.6,wspace=0.6)\n",
        "n = 0\n",
        "for i,ax in enumerate(axes.flat):\n",
        "    \n",
        "    if i%2==0:\n",
        "        ax.set_xlabel(\"input\")\n",
        "        ax.imshow(x_val[n].reshape(28,28), cmap='binary_r')\n",
        "    else:\n",
        "        ax.set_xlabel(\"reconstructed\")\n",
        "        ax.imshow(gen_imgs[n].reshape(28,28), cmap='binary_r')\n",
        "        n+=1\n",
        "    ax.set_xticks([])\n",
        "    ax.set_yticks([])\n",
        "plt.show()"
      ],
      "execution_count": 27,
      "outputs": [
        {
          "output_type": "display_data",
          "data": {
            "image/png": "[encoded data removed]",
            "text/plain": [
              "<matplotlib.figure.Figure at 0x7f94b7bd7110>"
            ]
          },
          "metadata": {
            "tags": []
          }
        }
      ]
    },
    {
      "metadata": {
        "id": "rJ_OJGU5L5ze",
        "colab_type": "code",
        "colab": {}
      },
      "cell_type": "code",
      "source": [
        ""
      ],
      "execution_count": 0,
      "outputs": []
    }
  ]
}