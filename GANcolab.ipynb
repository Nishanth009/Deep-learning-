{
  "nbformat": 4,
  "nbformat_minor": 0,
  "metadata": {
    "colab": {
      "name": "GANcolab.ipynb",
      "version": "0.3.2",
      "provenance": [],
      "collapsed_sections": []
    },
    "kernelspec": {
      "name": "python2",
      "display_name": "Python 2"
    },
    "accelerator": "GPU"
  },
  "cells": [
    {
      "metadata": {
        "id": "9NsWFjdVTfPw",
        "colab_type": "code",
        "colab": {
          "base_uri": "https://localhost:8080/",
          "height": 34
        },
        "outputId": "ecc685b3-9f2e-4ccc-e73b-d837a74d2363"
      },
      "cell_type": "code",
      "source": [
        "import tensorflow as tf\n",
        "device_name = tf.test.gpu_device_name()\n",
        "if device_name != '/device:GPU:0':\n",
        "    raise SystemError('GPU device not found')\n",
        "print('Found GPU at: {}'.format(device_name))"
      ],
      "execution_count": 26,
      "outputs": [
        {
          "output_type": "stream",
          "text": [
            "Found GPU at: /device:GPU:0\n"
          ],
          "name": "stdout"
        }
      ]
    },
    {
      "metadata": {
        "id": "9wEpfw0STocy",
        "colab_type": "code",
        "colab": {}
      },
      "cell_type": "code",
      "source": [
        "import keras\n",
        "from keras.layers import Input, Dense, Flatten, Reshape, Dropout\n",
        "from keras.layers import BatchNormalization, Activation, ZeroPadding2D\n",
        "from keras.layers.advanced_activations import LeakyReLU\n",
        "from keras.models import Sequential, Model\n",
        "from keras.optimizers import Adam\n",
        "from keras.datasets import mnist\n",
        "import numpy as np\n",
        "import matplotlib.pyplot as plt\n",
        "%matplotlib inline"
      ],
      "execution_count": 0,
      "outputs": []
    },
    {
      "metadata": {
        "id": "5Cp564PMTyLk",
        "colab_type": "code",
        "colab": {}
      },
      "cell_type": "code",
      "source": [
        "(x_train, y_train),(x_test, y_test) = mnist.load_data()"
      ],
      "execution_count": 0,
      "outputs": []
    },
    {
      "metadata": {
        "id": "UUL2i6scT1BB",
        "colab_type": "code",
        "colab": {
          "base_uri": "https://localhost:8080/",
          "height": 34
        },
        "outputId": "28880449-9980-4570-9de2-9dedd5d6755b"
      },
      "cell_type": "code",
      "source": [
        "img_dim = x_train.shape[1] * x_train.shape[2]\n",
        "img_shape = (x_train.shape[1], x_train.shape[2])\n",
        "print x_train.shape, x_test.shape"
      ],
      "execution_count": 29,
      "outputs": [
        {
          "output_type": "stream",
          "text": [
            "(60000, 28, 28) (10000, 28, 28)\n"
          ],
          "name": "stdout"
        }
      ]
    },
    {
      "metadata": {
        "id": "aNg1EntfT5zE",
        "colab_type": "code",
        "colab": {}
      },
      "cell_type": "code",
      "source": [
        "x_train = x_train.astype('float32') / 127.5 - 1\n",
        "x_test = x_test.astype('float32') / 127.5 - 1"
      ],
      "execution_count": 0,
      "outputs": []
    },
    {
      "metadata": {
        "id": "jAQELzs3UEfh",
        "colab_type": "code",
        "colab": {}
      },
      "cell_type": "code",
      "source": [
        "latent_dim = 100"
      ],
      "execution_count": 0,
      "outputs": []
    },
    {
      "metadata": {
        "id": "nGggVNJxUHPC",
        "colab_type": "code",
        "colab": {
          "base_uri": "https://localhost:8080/",
          "height": 555
        },
        "outputId": "2d3779e6-22ab-4df8-fd40-b650555cbc1a"
      },
      "cell_type": "code",
      "source": [
        "noise = Input(shape=(latent_dim,))\n",
        "x = Dense(256)(noise)\n",
        "x = LeakyReLU(alpha = 0.2)(x)\n",
        "x = BatchNormalization(momentum=0.8)(x)\n",
        "x = Dense(512)(x)\n",
        "x = LeakyReLU(alpha=0.2)(x)\n",
        "x = BatchNormalization(momentum=0.8)(x)\n",
        "x = Dense(1024)(x)\n",
        "x = LeakyReLU(alpha=0.2)(x)\n",
        "x = BatchNormalization(momentum=0.8)(x)\n",
        "x = Dense(img_dim, activation = 'tanh')(x)\n",
        "g_imgs = Reshape(img_shape)(x)\n",
        "g_model = Model(noise, g_imgs)\n",
        "g_model.summary()"
      ],
      "execution_count": 32,
      "outputs": [
        {
          "output_type": "stream",
          "text": [
            "_________________________________________________________________\n",
            "Layer (type)                 Output Shape              Param #   \n",
            "=================================================================\n",
            "input_4 (InputLayer)         (None, 100)               0         \n",
            "_________________________________________________________________\n",
            "dense_8 (Dense)              (None, 256)               25856     \n",
            "_________________________________________________________________\n",
            "leaky_re_lu_6 (LeakyReLU)    (None, 256)               0         \n",
            "_________________________________________________________________\n",
            "batch_normalization_4 (Batch (None, 256)               1024      \n",
            "_________________________________________________________________\n",
            "dense_9 (Dense)              (None, 512)               131584    \n",
            "_________________________________________________________________\n",
            "leaky_re_lu_7 (LeakyReLU)    (None, 512)               0         \n",
            "_________________________________________________________________\n",
            "batch_normalization_5 (Batch (None, 512)               2048      \n",
            "_________________________________________________________________\n",
            "dense_10 (Dense)             (None, 1024)              525312    \n",
            "_________________________________________________________________\n",
            "leaky_re_lu_8 (LeakyReLU)    (None, 1024)              0         \n",
            "_________________________________________________________________\n",
            "batch_normalization_6 (Batch (None, 1024)              4096      \n",
            "_________________________________________________________________\n",
            "dense_11 (Dense)             (None, 784)               803600    \n",
            "_________________________________________________________________\n",
            "reshape_2 (Reshape)          (None, 28, 28)            0         \n",
            "=================================================================\n",
            "Total params: 1,493,520\n",
            "Trainable params: 1,489,936\n",
            "Non-trainable params: 3,584\n",
            "_________________________________________________________________\n"
          ],
          "name": "stdout"
        }
      ]
    },
    {
      "metadata": {
        "id": "-2kwF4i8UKBD",
        "colab_type": "code",
        "colab": {
          "base_uri": "https://localhost:8080/",
          "height": 382
        },
        "outputId": "5b9fda5a-8a37-41d1-a66b-2f2e9451dab2"
      },
      "cell_type": "code",
      "source": [
        "\n",
        "inputs = Input(shape=img_shape)\n",
        "x = Flatten()(inputs)\n",
        "x = Dense(512)(x)\n",
        "x = LeakyReLU(alpha=0.2)(x)\n",
        "x = Dense(256)(x)\n",
        "x = LeakyReLU(alpha=0.2)(x)\n",
        "outputs = Dense(1, activation='sigmoid')(x)\n",
        "d_model = Model(inputs, outputs)\n",
        "d_model.summary()"
      ],
      "execution_count": 33,
      "outputs": [
        {
          "output_type": "stream",
          "text": [
            "_________________________________________________________________\n",
            "Layer (type)                 Output Shape              Param #   \n",
            "=================================================================\n",
            "input_5 (InputLayer)         (None, 28, 28)            0         \n",
            "_________________________________________________________________\n",
            "flatten_2 (Flatten)          (None, 784)               0         \n",
            "_________________________________________________________________\n",
            "dense_12 (Dense)             (None, 512)               401920    \n",
            "_________________________________________________________________\n",
            "leaky_re_lu_9 (LeakyReLU)    (None, 512)               0         \n",
            "_________________________________________________________________\n",
            "dense_13 (Dense)             (None, 256)               131328    \n",
            "_________________________________________________________________\n",
            "leaky_re_lu_10 (LeakyReLU)   (None, 256)               0         \n",
            "_________________________________________________________________\n",
            "dense_14 (Dense)             (None, 1)                 257       \n",
            "=================================================================\n",
            "Total params: 533,505\n",
            "Trainable params: 533,505\n",
            "Non-trainable params: 0\n",
            "_________________________________________________________________\n"
          ],
          "name": "stdout"
        }
      ]
    },
    {
      "metadata": {
        "id": "JAGDqM1VUNJx",
        "colab_type": "code",
        "colab": {}
      },
      "cell_type": "code",
      "source": [
        "d_model.compile(loss = 'binary_crossentropy',\n",
        "            optimizer = Adam(0.0002, 0.5),\n",
        "            metrics = ['accuracy'])"
      ],
      "execution_count": 0,
      "outputs": []
    },
    {
      "metadata": {
        "id": "5-cpv86iUVKQ",
        "colab_type": "code",
        "colab": {
          "base_uri": "https://localhost:8080/",
          "height": 243
        },
        "outputId": "748c0620-5454-4438-c8b8-43ea4a03276e"
      },
      "cell_type": "code",
      "source": [
        "inputs = Input(shape=(latent_dim,))\n",
        "d_model.trainable = False\n",
        "imgs = g_model(inputs)\n",
        "outputs = d_model(imgs)\n",
        "adverserial_model = Model(inputs, outputs)\n",
        "adverserial_model.compile(loss= 'binary_crossentropy',\n",
        "            optimizer = Adam(0.0002, 0.5),\n",
        "            metrics = ['accuracy'])\n",
        "adverserial_model.summary()"
      ],
      "execution_count": 35,
      "outputs": [
        {
          "output_type": "stream",
          "text": [
            "_________________________________________________________________\n",
            "Layer (type)                 Output Shape              Param #   \n",
            "=================================================================\n",
            "input_6 (InputLayer)         (None, 100)               0         \n",
            "_________________________________________________________________\n",
            "model_4 (Model)              (None, 28, 28)            1493520   \n",
            "_________________________________________________________________\n",
            "model_5 (Model)              (None, 1)                 533505    \n",
            "=================================================================\n",
            "Total params: 2,027,025\n",
            "Trainable params: 1,489,936\n",
            "Non-trainable params: 537,089\n",
            "_________________________________________________________________\n"
          ],
          "name": "stdout"
        }
      ]
    },
    {
      "metadata": {
        "id": "CQFJuNSLa6hk",
        "colab_type": "code",
        "colab": {}
      },
      "cell_type": "code",
      "source": [
        "adverserial_model.layers[-1].trainable = False\n"
      ],
      "execution_count": 0,
      "outputs": []
    },
    {
      "metadata": {
        "id": "iLIxyqaXUZk6",
        "colab_type": "code",
        "colab": {}
      },
      "cell_type": "code",
      "source": [
        "def get_batch(batch, gen_imgs):\n",
        "    indexes = np.random.randint(0, x_train.shape[0], batch)\n",
        "    x_batch = np.vstack((x_train[indexes],gen_imgs))\n",
        "    return x_batch"
      ],
      "execution_count": 0,
      "outputs": []
    },
    {
      "metadata": {
        "id": "T_knH4d2Ud7F",
        "colab_type": "code",
        "colab": {
          "base_uri": "https://localhost:8080/",
          "height": 538
        },
        "outputId": "db0ceec6-d9b0-4e28-8c28-552e2d97a8be"
      },
      "cell_type": "code",
      "source": [
        "batch_size = 32\n",
        "y_batch = np.vstack((np.ones((batch_size, 1)),np.zeros((batch_size, 1))))\n",
        "for ep in range(30000):\n",
        "    noise = np.random.normal(0, 1, (batch_size, latent_dim))\n",
        "    generated_imgs = g_model.predict(noise)\n",
        "    x_batch =  get_batch(batch_size, generated_imgs)\n",
        "    d_loss = d_model.train_on_batch(x_batch, y_batch)\n",
        "    g_loss = adverserial_model.train_on_batch(noise, y_batch[:batch_size])\n",
        "    if ep%1000==0:\n",
        "        print \"epoch:\",ep,\" \",d_loss[0], g_loss[0]"
      ],
      "execution_count": 38,
      "outputs": [
        {
          "output_type": "stream",
          "text": [
            "epoch: 0   0.68875355 0.69415927\n",
            "epoch: 1000   0.63635457 0.9059834\n",
            "epoch: 2000   0.6043301 0.67585415\n",
            "epoch: 3000   0.6043514 0.8414571\n",
            "epoch: 4000   0.6644433 0.84592015\n",
            "epoch: 5000   0.70902336 0.6389384\n",
            "epoch: 6000   0.60619545 1.0727189\n",
            "epoch: 7000   0.6162267 0.89665574\n",
            "epoch: 8000   0.7271905 0.95717895\n",
            "epoch: 9000   0.6541798 0.93188655\n",
            "epoch: 10000   0.6473229 0.89111406\n",
            "epoch: 11000   0.68158793 0.7631705\n",
            "epoch: 12000   0.59111726 0.7801891\n",
            "epoch: 13000   0.61010206 0.8399805\n",
            "epoch: 14000   0.6506281 1.0208528\n",
            "epoch: 15000   0.70844615 0.8898943\n",
            "epoch: 16000   0.6137046 0.8125288\n",
            "epoch: 17000   0.62033546 1.0902128\n",
            "epoch: 18000   0.65594745 0.9472653\n",
            "epoch: 19000   0.65130866 1.158675\n",
            "epoch: 20000   0.6241965 1.044105\n",
            "epoch: 21000   0.65382135 0.97030205\n",
            "epoch: 22000   0.5725448 1.2051294\n",
            "epoch: 23000   0.59412193 1.0180151\n",
            "epoch: 24000   0.56354046 0.8520777\n",
            "epoch: 25000   0.6482684 0.709743\n",
            "epoch: 26000   0.5905544 1.1496415\n",
            "epoch: 27000   0.6654391 0.8311376\n",
            "epoch: 28000   0.68189144 0.9061599\n",
            "epoch: 29000   0.7087571 0.70659304\n"
          ],
          "name": "stdout"
        }
      ]
    },
    {
      "metadata": {
        "id": "aodQNjVZUhM3",
        "colab_type": "code",
        "colab": {
          "base_uri": "https://localhost:8080/",
          "height": 269
        },
        "outputId": "c1674880-c367-48ca-a157-9909831b2a16"
      },
      "cell_type": "code",
      "source": [
        "r, c = 5, 5\n",
        "noise = np.random.normal(0, 1, (r * c, 100))\n",
        "gen_imgs = g_model.predict(noise)\n",
        "\n",
        "        # Rescale images 0 - 1\n",
        "\n",
        "gen_imgs = 0.5 * gen_imgs + 0.5\n",
        "fig, axs = plt.subplots(r, c)\n",
        "cnt = 0\n",
        "for i in range(r):\n",
        "    for j in range(c):\n",
        "        axs[i,j].imshow(gen_imgs[cnt, :,:], cmap='gray')\n",
        "        axs[i,j].axis('off')\n",
        "        cnt += 1\n",
        "       "
      ],
      "execution_count": 44,
      "outputs": [
        {
          "output_type": "display_data",
          "data": {
            "image/png": "[encoded data removed]",
            "text/plain": [
              "<matplotlib.figure.Figure at 0x7f4a42108d90>"
            ]
          },
          "metadata": {
            "tags": []
          }
        }
      ]
    },
    {
      "metadata": {
        "id": "pIUbI8axYGwA",
        "colab_type": "code",
        "colab": {}
      },
      "cell_type": "code",
      "source": [
        ""
      ],
      "execution_count": 0,
      "outputs": []
    }
  ]
}