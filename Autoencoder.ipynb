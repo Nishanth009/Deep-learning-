{
 "cells": [
  {
   "cell_type": "code",
   "execution_count": 1,
   "metadata": {},
   "outputs": [
    {
     "name": "stderr",
     "output_type": "stream",
     "text": [
      "/usr/local/lib/python2.7/dist-packages/pandas/core/computation/__init__.py:18: UserWarning: The installed version of numexpr 2.4.3 is not supported in pandas and will be not be used\n",
      "The minimum supported version is 2.4.6\n",
      "\n",
      "  ver=ver, min_ver=_MIN_NUMEXPR_VERSION), UserWarning)\n"
     ]
    }
   ],
   "source": [
    "import tensorflow as tf\n",
    "import numpy as np\n",
    "import matplotlib.pyplot as plt\n",
    "%matplotlib inline"
   ]
  },
  {
   "cell_type": "code",
   "execution_count": 2,
   "metadata": {},
   "outputs": [
    {
     "name": "stdout",
     "output_type": "stream",
     "text": [
      "Extracting data/MNIST/train-images-idx3-ubyte.gz\n",
      "Extracting data/MNIST/train-labels-idx1-ubyte.gz\n",
      "Extracting data/MNIST/t10k-images-idx3-ubyte.gz\n",
      "Extracting data/MNIST/t10k-labels-idx1-ubyte.gz\n"
     ]
    }
   ],
   "source": [
    "from tensorflow.examples.tutorials.mnist import input_data\n",
    "mnist = input_data.read_data_sets(\"data/MNIST\", one_hot=True)"
   ]
  },
  {
   "cell_type": "code",
   "execution_count": 3,
   "metadata": {
    "collapsed": true
   },
   "outputs": [],
   "source": [
    "units_1 = 256\n",
    "units_2 = 128\n",
    "img_size = 28*28"
   ]
  },
  {
   "cell_type": "code",
   "execution_count": 4,
   "metadata": {},
   "outputs": [
    {
     "data": {
      "text/plain": [
       "<matplotlib.image.AxesImage at 0x7f2a4b432650>"
      ]
     },
     "execution_count": 4,
     "metadata": {},
     "output_type": "execute_result"
    },
    {
     "data": {
      "image/png": "[encoded data removed]",
      "text/plain": [
       "<matplotlib.figure.Figure at 0x7f2a4b8f2f10>"
      ]
     },
     "metadata": {},
     "output_type": "display_data"
    }
   ],
   "source": [
    "noisy = mnist.train.images + np.random.normal(loc=0.0, scale=0.2,size=784)\n",
    "train_noisy = np.clip(noisy, 0., 1.)\n",
    "plt.imshow(train_noisy[11].reshape(28,28),cmap='binary_r')"
   ]
  },
  {
   "cell_type": "code",
   "execution_count": 5,
   "metadata": {
    "collapsed": true
   },
   "outputs": [],
   "source": [
    "x_noisy = tf.placeholder(tf.float32,shape=[None,784])\n",
    "x_real = tf.placeholder(tf.float32,shape=[None,784])"
   ]
  },
  {
   "cell_type": "code",
   "execution_count": 6,
   "metadata": {
    "collapsed": true
   },
   "outputs": [],
   "source": [
    "## NN autoencoder\n",
    "enc_layer1 = tf.layers.dense(inputs=x_train,name='encoder_1',units=units_1,activation=tf.nn.relu)\n",
    "enc_layer2 = tf.layers.dense(inputs=enc_layer1,name='encoder_2',units=units_2,activation=tf.nn.relu)\n",
    "dec_layer1 = tf.layers.dense(inputs=enc_layer2,name='decoder_1',units=units_1,activation=tf.nn.relu)\n",
    "dec_layer2 = tf.layers.dense(inputs=dec_layer1,name='decoder_2',units=img_size,activation=None)"
   ]
  },
  {
   "cell_type": "code",
   "execution_count": 6,
   "metadata": {
    "collapsed": true
   },
   "outputs": [],
   "source": [
    "## Deep denoising autoencoder\n",
    "x_real_image = tf.reshape(x_real,shape=[-1,28,28,1])\n",
    "x_noise_image = tf.reshape(x_noisy,shape=[-1,28,28,1])\n",
    "conv1 = tf.layers.conv2d(inputs=x_noise_image,filters=16,kernel_size=(5,5),strides=(1,1),padding='SAME',activation=tf.nn.relu,name='conv1')\n",
    "maxpool1 = tf.layers.max_pooling2d(inputs=conv1,pool_size=(2,2),strides=(2,2),name='pool1')\n",
    "conv2 = tf.layers.conv2d(inputs=maxpool1,filters=16,kernel_size=(5,5),strides=(1,1),padding='SAME',activation=tf.nn.relu,name='conv2')\n",
    "maxpool2 = tf.layers.max_pooling2d(inputs=conv2,pool_size=(2,2),strides=(2,2),name='pool2')\n",
    "conv3 = tf.layers.conv2d(inputs=maxpool2,filters=16,kernel_size=(5,5),strides=(1,1),padding='SAME',activation=tf.nn.relu,use_bias=True,name='conv3')\n",
    "upsample1 = tf.layers.conv2d_transpose(inputs=conv3,filters=16,kernel_size=(5,5),strides=(2,2),padding='SAME',name='upsample1')\n",
    "upsample2 = tf.layers.conv2d_transpose(inputs=upsample1,filters=16,kernel_size=5,strides=2,padding='SAME',name='upsample2')\n",
    "dec_layer = tf.layers.conv2d(inputs=upsample2,filters=1,kernel_size=5,strides=1,padding='SAME',name='logits',use_bias=True)"
   ]
  },
  {
   "cell_type": "code",
   "execution_count": 7,
   "metadata": {},
   "outputs": [
    {
     "name": "stdout",
     "output_type": "stream",
     "text": [
      "<tf.Variable 'conv1/kernel:0' shape=(5, 5, 1, 16) dtype=float32_ref>\n",
      "<tf.Variable 'conv1/bias:0' shape=(16,) dtype=float32_ref>\n",
      "<tf.Variable 'conv2/kernel:0' shape=(5, 5, 16, 16) dtype=float32_ref>\n",
      "<tf.Variable 'conv2/bias:0' shape=(16,) dtype=float32_ref>\n",
      "<tf.Variable 'conv3/kernel:0' shape=(5, 5, 16, 16) dtype=float32_ref>\n",
      "<tf.Variable 'conv3/bias:0' shape=(16,) dtype=float32_ref>\n",
      "<tf.Variable 'upsample1/kernel:0' shape=(5, 5, 16, 16) dtype=float32_ref>\n",
      "<tf.Variable 'upsample1/bias:0' shape=(16,) dtype=float32_ref>\n",
      "<tf.Variable 'upsample2/kernel:0' shape=(5, 5, 16, 16) dtype=float32_ref>\n",
      "<tf.Variable 'upsample2/bias:0' shape=(16,) dtype=float32_ref>\n",
      "<tf.Variable 'logits/kernel:0' shape=(5, 5, 16, 1) dtype=float32_ref>\n",
      "<tf.Variable 'logits/bias:0' shape=(1,) dtype=float32_ref>\n"
     ]
    }
   ],
   "source": [
    "for var in tf.get_collection(tf.GraphKeys.GLOBAL_VARIABLES):\n",
    "    print var"
   ]
  },
  {
   "cell_type": "code",
   "execution_count": 8,
   "metadata": {
    "collapsed": true
   },
   "outputs": [],
   "source": [
    "decoded = tf.sigmoid(dec_layer,name='decoded')\n"
   ]
  },
  {
   "cell_type": "code",
   "execution_count": 9,
   "metadata": {
    "collapsed": true
   },
   "outputs": [],
   "source": [
    "x_pred = decoded\n",
    "cost = tf.reduce_mean(tf.pow((x_real_image-x_pred),2))\n",
    "optimizer = tf.train.RMSPropOptimizer(0.01).minimize(cost)"
   ]
  },
  {
   "cell_type": "code",
   "execution_count": 10,
   "metadata": {
    "collapsed": true
   },
   "outputs": [],
   "source": [
    "sess = tf.Session()\n",
    "sess.run(tf.global_variables_initializer())"
   ]
  },
  {
   "cell_type": "code",
   "execution_count": 11,
   "metadata": {
    "collapsed": true
   },
   "outputs": [],
   "source": [
    "def gen_batch(batch_size):\n",
    "    idx = np.random.choice(train_noisy.shape[0],batch_size,replace=True)\n",
    "    return train_noisy[idx],mnist.train.images[idx]"
   ]
  },
  {
   "cell_type": "code",
   "execution_count": 12,
   "metadata": {},
   "outputs": [
    {
     "name": "stdout",
     "output_type": "stream",
     "text": [
      "iterations: 0,cost: 0.23267416656\n",
      "iterations: 100,cost: 0.106294132769\n",
      "iterations: 200,cost: 0.0673366710544\n",
      "iterations: 300,cost: 0.0211136285216\n",
      "iterations: 400,cost: 0.024483460933\n",
      "iterations: 500,cost: 0.0173194743693\n",
      "iterations: 600,cost: 0.0158863160759\n",
      "iterations: 700,cost: 0.0143023133278\n",
      "iterations: 800,cost: 0.0188645645976\n",
      "iterations: 900,cost: 0.0136170554906\n",
      "iterations: 1000,cost: 0.0119380857795\n",
      "iterations: 1100,cost: 0.0120822777972\n",
      "iterations: 1200,cost: 0.0101149752736\n",
      "iterations: 1300,cost: 0.0135801360011\n",
      "iterations: 1400,cost: 0.0131791997701\n",
      "iterations: 1500,cost: 0.0123865455389\n",
      "iterations: 1600,cost: 0.00927766319364\n",
      "iterations: 1700,cost: 0.0115372389555\n",
      "iterations: 1800,cost: 0.0106222620234\n",
      "iterations: 1900,cost: 0.0143605312333\n"
     ]
    }
   ],
   "source": [
    "iterations = 2000\n",
    "batch_size = 16\n",
    "for i in range(iterations):\n",
    "    \n",
    "    x_noisy_batch,x_real_batch = gen_batch(batch_size)\n",
    "    feed_dict_train = {x_noisy:x_noisy_batch,x_real:x_real_batch}\n",
    "    _,cst = sess.run([optimizer,cost],feed_dict=feed_dict_train)\n",
    "    if i%100==0:\n",
    "        print \"iterations: {0},cost: {1}\".format(i,cst)"
   ]
  },
  {
   "cell_type": "code",
   "execution_count": 14,
   "metadata": {},
   "outputs": [
    {
     "name": "stdout",
     "output_type": "stream",
     "text": [
      "(4, 28, 28, 1)\n"
     ]
    },
    {
     "data": {
      "image/png": "[encoded data removed]",
      "text/plain": [
       "<matplotlib.figure.Figure at 0x7f2a4785c3d0>"
      ]
     },
     "metadata": {},
     "output_type": "display_data"
    },
    {
     "data": {
      "image/png": "[encoded data removed]",
      "text/plain": [
       "<matplotlib.figure.Figure at 0x7f2a4785c990>"
      ]
     },
     "metadata": {},
     "output_type": "display_data"
    }
   ],
   "source": [
    "rec_img = sess.run(x_pred,feed_dict={x_noisy:train_noisy[:4],x_real:mnist.train.images[:4]})\n",
    "plt.figure(1)\n",
    "plt.imshow(train_noisy[1].reshape(28,28),cmap='binary_r')\n",
    "plt.figure(2)\n",
    "plt.imshow(rec_img[1,:,:,0],cmap = 'binary_r')\n",
    "print rec_img.shape"
   ]
  },
  {
   "cell_type": "code",
   "execution_count": 15,
   "metadata": {},
   "outputs": [
    {
     "data": {
      "image/png": "[encoded data removed]",
      "text/plain": [
       "<matplotlib.figure.Figure at 0x7f2a412e9a10>"
      ]
     },
     "metadata": {},
     "output_type": "display_data"
    }
   ],
   "source": [
    "fig,axes = plt.subplots(4,2)\n",
    "fig.subplots_adjust(hspace=0.6,wspace=0.6)\n",
    "n = 0\n",
    "for i,ax in enumerate(axes.flat):\n",
    "    \n",
    "    if i%2==0:\n",
    "        ax.set_xlabel(\"input\")\n",
    "        ax.imshow(train_noisy[n].reshape(28,28))\n",
    "    else:\n",
    "        ax.set_xlabel(\"reconstructed\")\n",
    "        ax.imshow(rec_img[n,:,:,0])\n",
    "        n+=1\n",
    "    ax.set_xticks([])\n",
    "    ax.set_yticks([])\n",
    "plt.show()\n"
   ]
  },
  {
   "cell_type": "code",
   "execution_count": null,
   "metadata": {
    "collapsed": true
   },
   "outputs": [],
   "source": []
  },
  {
   "cell_type": "code",
   "execution_count": null,
   "metadata": {
    "collapsed": true
   },
   "outputs": [],
   "source": []
  }
 ],
 "metadata": {
  "kernelspec": {
   "display_name": "Python 2",
   "language": "python",
   "name": "python2"
  },
  "language_info": {
   "codemirror_mode": {
    "name": "ipython",
    "version": 2
   },
   "file_extension": ".py",
   "mimetype": "text/x-python",
   "name": "python",
   "nbconvert_exporter": "python",
   "pygments_lexer": "ipython2",
   "version": "2.7.12"
  }
 },
 "nbformat": 4,
 "nbformat_minor": 2
}
