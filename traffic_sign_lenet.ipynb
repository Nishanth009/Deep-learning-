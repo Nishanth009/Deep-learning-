{
 "cells": [
  {
   "cell_type": "code",
   "execution_count": 1,
   "metadata": {},
   "outputs": [
    {
     "name": "stderr",
     "output_type": "stream",
     "text": [
      "Using TensorFlow backend.\n"
     ]
    }
   ],
   "source": [
    "import cv2\n",
    "import keras\n",
    "from keras.optimizers import SGD\n",
    "from keras.models import Sequential\n",
    "from keras.layers import Dense, Activation, Dropout, Flatten\n",
    "from keras.preprocessing.image import ImageDataGenerator,load_img,img_to_array\n",
    "from keras.layers.normalization import BatchNormalization\n",
    "from keras.layers import Conv2D\n",
    "from keras.layers import MaxPooling2D\n",
    "from keras.models import Sequential, Model\n",
    "from keras import optimizers\n",
    "from keras.callbacks import ModelCheckpoint, ReduceLROnPlateau\n",
    "import numpy as np\n",
    "import matplotlib.pyplot as plt\n",
    "%matplotlib inline"
   ]
  },
  {
   "cell_type": "code",
   "execution_count": 2,
   "metadata": {
    "collapsed": true
   },
   "outputs": [],
   "source": [
    "from os import listdir\n",
    "import glob\n",
    "from skimage import io, transform, exposure, color\n",
    "\n",
    "def preprocess(img):\n",
    "    img = transform.resize(img,(28,28))\n",
    "    hsv = color.rgb2hsv(img)\n",
    "    hsv[:,:,2] = exposure.equalize_hist(hsv[:,:,2])\n",
    "    return color.hsv2rgb(hsv)\n",
    "\n",
    "def read_img(path):\n",
    "    images = []\n",
    "    for img_path in glob.glob(path+\"/*.ppm\"):\n",
    "        img = io.imread(img_path)\n",
    "        img = preprocess(img)\n",
    "        images.append(img)\n",
    "    return images\n",
    "\n",
    "def load_data(path):\n",
    "    img_list = list()\n",
    "    labels = list()\n",
    "    for f in listdir(path):\n",
    "        images = read_img(path+'/'+f)\n",
    "        mul = len(images)\n",
    "        img_list = img_list+images\n",
    "        labels = labels + [int(f)]*mul\n",
    "    return np.array(img_list,dtype = 'float32'),np.array(labels,dtype = 'float32')\n",
    "    "
   ]
  },
  {
   "cell_type": "code",
   "execution_count": 4,
   "metadata": {},
   "outputs": [
    {
     "name": "stderr",
     "output_type": "stream",
     "text": [
      "/usr/local/lib/python2.7/dist-packages/skimage/transform/_warps.py:84: UserWarning: The default mode, 'constant', will be changed to 'reflect' in skimage 0.15.\n",
      "  warn(\"The default mode, 'constant', will be changed to 'reflect' in \"\n"
     ]
    }
   ],
   "source": [
    "train_path = \"/media/nishanth/E/bigdatathings/ML-DL/traffic-signs/GTSRB/Final_Training/train\"\n",
    "train_x, train_y =  load_data(train_path)\n"
   ]
  },
  {
   "cell_type": "code",
   "execution_count": 5,
   "metadata": {
    "collapsed": true
   },
   "outputs": [],
   "source": [
    "from keras.utils import to_categorical\n",
    "train_y = to_categorical(train_y)"
   ]
  },
  {
   "cell_type": "code",
   "execution_count": 6,
   "metadata": {},
   "outputs": [
    {
     "name": "stdout",
     "output_type": "stream",
     "text": [
      "training data (27804, 28, 28, 3)\n",
      "training labels (27804, 43)\n",
      "validation data (6952, 28, 28, 3)\n",
      "validation labels (6952, 43)\n"
     ]
    }
   ],
   "source": [
    "from sklearn.model_selection import train_test_split\n",
    "x_train, x_val, y_train, y_val = train_test_split(train_x,train_y,test_size=0.2,random_state=42)\n",
    "print \"training data\",x_train.shape\n",
    "print \"training labels\",y_train.shape\n",
    "print \"validation data\",x_val.shape\n",
    "print \"validation labels\",y_val.shape"
   ]
  },
  {
   "cell_type": "code",
   "execution_count": 8,
   "metadata": {},
   "outputs": [
    {
     "name": "stdout",
     "output_type": "stream",
     "text": [
      "class :  2\n"
     ]
    },
    {
     "data": {
      "image/png": "[encoded data removed]",
      "text/plain": [
       "<matplotlib.figure.Figure at 0x7f5661bb48d0>"
      ]
     },
     "metadata": {},
     "output_type": "display_data"
    }
   ],
   "source": [
    "img = x_val[200]\n",
    "plt.imshow(img)\n",
    "print \"class : \",np.argmax(y_val[200])"
   ]
  },
  {
   "cell_type": "code",
   "execution_count": 7,
   "metadata": {
    "collapsed": true
   },
   "outputs": [],
   "source": [
    "def create_model():\n",
    "    model = Sequential()\n",
    "\n",
    "    model.add(Conv2D(32, (3, 3), padding='same',\n",
    "                     input_shape=(28, 28, 3),\n",
    "                     activation='relu'))\n",
    "    model.add(Conv2D(32, (3, 3)))\n",
    "    model.add(BatchNormalization())\n",
    "    model.add(Activation('relu'))\n",
    "    model.add(MaxPooling2D((2, 2), strides=(2, 2)))\n",
    "   \n",
    "    \n",
    "    \n",
    "\n",
    "    model.add(Conv2D(64, (3, 3), padding='same',\n",
    "                     activation='relu'))\n",
    "    model.add(Conv2D(64, (3, 3)))\n",
    "    model.add(Activation('relu'))\n",
    "    model.add(MaxPooling2D((2, 2), strides=(2, 2)))\n",
    "   \n",
    "\n",
    "    model.add(Conv2D(128, (3, 3), padding='same',\n",
    "                     activation='relu'))\n",
    "    model.add(Conv2D(128, (3, 3)))\n",
    "    model.add(Activation('relu'))\n",
    "    model.add(MaxPooling2D((2, 2), strides=(2, 2)))\n",
    "    model.add(BatchNormalization())\n",
    "    \n",
    "    \n",
    "\n",
    "    model.add(Flatten())\n",
    "    model.add(Dense(512, activation='relu'))\n",
    "    model.add(Dropout(0.5))\n",
    "    model.add(Dense(43, activation='softmax'))\n",
    "    return model\n"
   ]
  },
  {
   "cell_type": "code",
   "execution_count": 8,
   "metadata": {
    "collapsed": true
   },
   "outputs": [],
   "source": [
    "model = create_model()"
   ]
  },
  {
   "cell_type": "code",
   "execution_count": 9,
   "metadata": {
    "collapsed": true
   },
   "outputs": [],
   "source": [
    "sgd = SGD(lr=1e-2, decay=1e-6, momentum=0.9, nesterov=True)\n",
    "model.compile(loss='categorical_crossentropy',\n",
    "          optimizer=sgd,\n",
    "          metrics=['accuracy'])"
   ]
  },
  {
   "cell_type": "code",
   "execution_count": 10,
   "metadata": {
    "collapsed": true
   },
   "outputs": [],
   "source": [
    "reduce_lr = ReduceLROnPlateau(monitor='val_loss', factor=0.2, patience=2, min_lr=1e-5)\n",
    "checkpoint = ModelCheckpoint('traffic_sign_model.h5', monitor='val_acc', verbose=1, save_best_only=True, mode='max')"
   ]
  },
  {
   "cell_type": "code",
   "execution_count": 128,
   "metadata": {},
   "outputs": [
    {
     "name": "stdout",
     "output_type": "stream",
     "text": [
      "Train on 27804 samples, validate on 6952 samples\n",
      "Epoch 1/25\n",
      "27776/27804 [============================>.] - ETA: 0s - loss: 0.7170 - acc: 0.8070Epoch 00001: val_acc improved from -inf to 0.90521, saving model to traffic_sign_model.h5\n",
      "27804/27804 [==============================] - 170s 6ms/step - loss: 0.7165 - acc: 0.8072 - val_loss: 0.3059 - val_acc: 0.9052\n",
      "Epoch 2/25\n",
      "27776/27804 [============================>.] - ETA: 0s - loss: 0.1185 - acc: 0.9649Epoch 00002: val_acc improved from 0.90521 to 0.95900, saving model to traffic_sign_model.h5\n",
      "27804/27804 [==============================] - 187s 7ms/step - loss: 0.1185 - acc: 0.9649 - val_loss: 0.1335 - val_acc: 0.9590\n",
      "Epoch 3/25\n",
      "27776/27804 [============================>.] - ETA: 0s - loss: 0.0608 - acc: 0.9825Epoch 00003: val_acc did not improve\n",
      "27804/27804 [==============================] - 194s 7ms/step - loss: 0.0607 - acc: 0.9825 - val_loss: 0.1395 - val_acc: 0.9563\n",
      "Epoch 4/25\n",
      "27776/27804 [============================>.] - ETA: 0s - loss: 0.0435 - acc: 0.9869Epoch 00004: val_acc improved from 0.95900 to 0.98763, saving model to traffic_sign_model.h5\n",
      "27804/27804 [==============================] - 197s 7ms/step - loss: 0.0435 - acc: 0.9869 - val_loss: 0.0443 - val_acc: 0.9876\n",
      "Epoch 5/25\n",
      "27776/27804 [============================>.] - ETA: 0s - loss: 0.0332 - acc: 0.9900Epoch 00005: val_acc did not improve\n",
      "27804/27804 [==============================] - 195s 7ms/step - loss: 0.0333 - acc: 0.9900 - val_loss: 0.0535 - val_acc: 0.9842\n",
      "Epoch 6/25\n",
      "27776/27804 [============================>.] - ETA: 0s - loss: 0.0226 - acc: 0.9929Epoch 00006: val_acc did not improve\n",
      "27804/27804 [==============================] - 200s 7ms/step - loss: 0.0226 - acc: 0.9929 - val_loss: 0.0689 - val_acc: 0.9794\n",
      "Epoch 7/25\n",
      "27776/27804 [============================>.] - ETA: 0s - loss: 0.0189 - acc: 0.9946Epoch 00007: val_acc did not improve\n",
      "27804/27804 [==============================] - 202s 7ms/step - loss: 0.0189 - acc: 0.9946 - val_loss: 0.0653 - val_acc: 0.9810\n",
      "Epoch 8/25\n",
      "27776/27804 [============================>.] - ETA: 0s - loss: 0.0077 - acc: 0.9979Epoch 00008: val_acc improved from 0.98763 to 0.99381, saving model to traffic_sign_model.h5\n",
      "27804/27804 [==============================] - 200s 7ms/step - loss: 0.0077 - acc: 0.9979 - val_loss: 0.0251 - val_acc: 0.9938\n",
      "Epoch 9/25\n",
      "27776/27804 [============================>.] - ETA: 0s - loss: 0.0040 - acc: 0.9991- ETA: 6Epoch 00009: val_acc improved from 0.99381 to 0.99482, saving model to traffic_sign_model.h5\n",
      "27804/27804 [==============================] - 203s 7ms/step - loss: 0.0040 - acc: 0.9991 - val_loss: 0.0236 - val_acc: 0.9948\n",
      "Epoch 10/25\n",
      "27776/27804 [============================>.] - ETA: 0s - loss: 0.0034 - acc: 0.9992Epoch 00010: val_acc improved from 0.99482 to 0.99525, saving model to traffic_sign_model.h5\n",
      "27804/27804 [==============================] - 203s 7ms/step - loss: 0.0034 - acc: 0.9992 - val_loss: 0.0219 - val_acc: 0.9953\n",
      "Epoch 11/25\n",
      "27776/27804 [============================>.] - ETA: 0s - loss: 0.0029 - acc: 0.9995Epoch 00011: val_acc did not improve\n",
      "27804/27804 [==============================] - 201s 7ms/step - loss: 0.0029 - acc: 0.9995 - val_loss: 0.0227 - val_acc: 0.9947\n",
      "Epoch 12/25\n",
      "27776/27804 [============================>.] - ETA: 0s - loss: 0.0030 - acc: 0.9992Epoch 00012: val_acc did not improve\n",
      "27804/27804 [==============================] - 200s 7ms/step - loss: 0.0030 - acc: 0.9992 - val_loss: 0.0223 - val_acc: 0.9945\n",
      "Epoch 13/25\n",
      "27776/27804 [============================>.] - ETA: 0s - loss: 0.0021 - acc: 0.9997Epoch 00013: val_acc improved from 0.99525 to 0.99540, saving model to traffic_sign_model.h5\n",
      "27804/27804 [==============================] - 204s 7ms/step - loss: 0.0021 - acc: 0.9997 - val_loss: 0.0208 - val_acc: 0.9954\n",
      "Epoch 14/25\n",
      "27776/27804 [============================>.] - ETA: 0s - loss: 0.0020 - acc: 0.9998Epoch 00014: val_acc improved from 0.99540 to 0.99554, saving model to traffic_sign_model.h5\n",
      "27804/27804 [==============================] - 202s 7ms/step - loss: 0.0020 - acc: 0.9998 - val_loss: 0.0207 - val_acc: 0.9955\n",
      "Epoch 15/25\n",
      "27776/27804 [============================>.] - ETA: 0s - loss: 0.0014 - acc: 1.0000- ETA: 3s - loss: 0.0Epoch 00015: val_acc did not improve\n",
      "27804/27804 [==============================] - 198s 7ms/step - loss: 0.0014 - acc: 1.0000 - val_loss: 0.0199 - val_acc: 0.9953\n",
      "Epoch 16/25\n",
      "27776/27804 [============================>.] - ETA: 0s - loss: 0.0019 - acc: 0.9997Epoch 00016: val_acc did not improve\n",
      "27804/27804 [==============================] - 201s 7ms/step - loss: 0.0019 - acc: 0.9997 - val_loss: 0.0210 - val_acc: 0.9954\n",
      "Epoch 17/25\n",
      "27776/27804 [============================>.] - ETA: 0s - loss: 0.0018 - acc: 0.9997Epoch 00017: val_acc did not improve\n",
      "27804/27804 [==============================] - 201s 7ms/step - loss: 0.0018 - acc: 0.9997 - val_loss: 0.0189 - val_acc: 0.9955\n",
      "Epoch 18/25\n",
      "27776/27804 [============================>.] - ETA: 0s - loss: 0.0015 - acc: 0.9998- ETA: 3s - loss: 0.00Epoch 00018: val_acc did not improve\n",
      "27804/27804 [==============================] - 201s 7ms/step - loss: 0.0015 - acc: 0.9998 - val_loss: 0.0201 - val_acc: 0.9951\n",
      "Epoch 19/25\n",
      "27776/27804 [============================>.] - ETA: 0s - loss: 0.0017 - acc: 0.9997Epoch 00019: val_acc did not improve\n",
      "27804/27804 [==============================] - 207s 7ms/step - loss: 0.0017 - acc: 0.9997 - val_loss: 0.0197 - val_acc: 0.9954\n",
      "Epoch 20/25\n",
      "27776/27804 [============================>.] - ETA: 0s - loss: 0.0016 - acc: 0.9998Epoch 00020: val_acc did not improve\n",
      "27804/27804 [==============================] - 210s 8ms/step - loss: 0.0016 - acc: 0.9998 - val_loss: 0.0205 - val_acc: 0.9947\n",
      "Epoch 21/25\n",
      "27776/27804 [============================>.] - ETA: 0s - loss: 0.0014 - acc: 0.9998Epoch 00021: val_acc did not improve\n",
      "27804/27804 [==============================] - 209s 8ms/step - loss: 0.0014 - acc: 0.9998 - val_loss: 0.0202 - val_acc: 0.9955\n",
      "Epoch 22/25\n",
      "27776/27804 [============================>.] - ETA: 0s - loss: 0.0015 - acc: 0.9996Epoch 00022: val_acc did not improve\n",
      "27804/27804 [==============================] - 203s 7ms/step - loss: 0.0015 - acc: 0.9996 - val_loss: 0.0198 - val_acc: 0.9955\n",
      "Epoch 23/25\n",
      "27776/27804 [============================>.] - ETA: 0s - loss: 0.0011 - acc: 0.9999Epoch 00023: val_acc did not improve\n",
      "27804/27804 [==============================] - 214s 8ms/step - loss: 0.0011 - acc: 0.9999 - val_loss: 0.0200 - val_acc: 0.9955\n",
      "Epoch 24/25\n",
      "27776/27804 [============================>.] - ETA: 0s - loss: 0.0012 - acc: 0.9999Epoch 00024: val_acc improved from 0.99554 to 0.99568, saving model to traffic_sign_model.h5\n",
      "27804/27804 [==============================] - 238s 9ms/step - loss: 0.0013 - acc: 0.9999 - val_loss: 0.0198 - val_acc: 0.9957\n",
      "Epoch 25/25\n",
      "27776/27804 [============================>.] - ETA: 0s - loss: 0.0013 - acc: 0.9998Epoch 00025: val_acc did not improve\n",
      "27804/27804 [==============================] - 243s 9ms/step - loss: 0.0013 - acc: 0.9998 - val_loss: 0.0200 - val_acc: 0.9955\n"
     ]
    },
    {
     "data": {
      "text/plain": [
       "<keras.callbacks.History at 0x7fa1bcc03850>"
      ]
     },
     "execution_count": 128,
     "metadata": {},
     "output_type": "execute_result"
    }
   ],
   "source": [
    "model.fit(x_train, y_train, epochs=25, validation_data=(x_val,y_val), callbacks=[reduce_lr, checkpoint])"
   ]
  },
  {
   "cell_type": "code",
   "execution_count": 14,
   "metadata": {
    "collapsed": true
   },
   "outputs": [],
   "source": [
    "import pandas as pd\n",
    "test_data = pd.read_csv(\"/media/nishanth/E/bigdatathings/ML-DL/traffic-signs/GTSRB/Final_Test/GT-final_test.csv\",sep=\";\")"
   ]
  },
  {
   "cell_type": "code",
   "execution_count": 15,
   "metadata": {
    "collapsed": true
   },
   "outputs": [],
   "source": [
    "x_test = np.empty((12630,28,28,3),dtype=np.float32)\n",
    "y_test = []\n",
    "path = \"/media/nishanth/E/bigdatathings/ML-DL/traffic-signs/GTSRB/Final_Test/Images\"\n",
    "for idx,image_path in enumerate(glob.glob(path+\"/*.ppm\")):\n",
    "    img = io.imread(image_path)\n",
    "    img = preprocess(img)\n",
    "    label = int(test_data.loc[test_data['Filename']==image_path[-9:]]['ClassId'])\n",
    "    x_test[idx] = img\n",
    "    y_test.append(label)\n",
    "\n",
    "y_test = to_categorical(np.array(y_test,dtype = 'float32'))\n"
   ]
  },
  {
   "cell_type": "markdown",
   "metadata": {
    "collapsed": true
   },
   "source": [
    "Data Augmentation improves accuracy\n",
    "-----------------------------------------------"
   ]
  },
  {
   "cell_type": "code",
   "execution_count": 13,
   "metadata": {
    "collapsed": true
   },
   "outputs": [],
   "source": [
    "datagen = ImageDataGenerator(featurewise_center=False, \n",
    "                            featurewise_std_normalization=False, \n",
    "                            width_shift_range=0.1,\n",
    "                            height_shift_range=0.1,\n",
    "                            zoom_range=0.2,\n",
    "                            shear_range=0.1,\n",
    "                            rotation_range=10.,)\n",
    "\n",
    "datagen.fit(x_train)\n"
   ]
  },
  {
   "cell_type": "code",
   "execution_count": 14,
   "metadata": {},
   "outputs": [
    {
     "name": "stdout",
     "output_type": "stream",
     "text": [
      "Epoch 1/25\n",
      "869/869 [==============================] - 182s 210ms/step - loss: 1.4952 - acc: 0.5647 - val_loss: 0.5371 - val_acc: 0.8284\n",
      "Epoch 2/25\n",
      "869/869 [==============================] - 183s 210ms/step - loss: 0.3835 - acc: 0.8785 - val_loss: 0.1103 - val_acc: 0.9679\n",
      "Epoch 3/25\n",
      "869/869 [==============================] - 183s 210ms/step - loss: 0.2283 - acc: 0.9270 - val_loss: 0.1206 - val_acc: 0.9619\n",
      "Epoch 4/25\n",
      "869/869 [==============================] - 186s 214ms/step - loss: 0.1768 - acc: 0.9428 - val_loss: 0.0668 - val_acc: 0.9796\n",
      "Epoch 5/25\n",
      "869/869 [==============================] - 195s 224ms/step - loss: 0.1361 - acc: 0.9565 - val_loss: 0.0633 - val_acc: 0.9796\n",
      "Epoch 6/25\n",
      "869/869 [==============================] - 189s 218ms/step - loss: 0.1159 - acc: 0.9619 - val_loss: 0.0432 - val_acc: 0.9866\n",
      "Epoch 7/25\n",
      "869/869 [==============================] - 211s 243ms/step - loss: 0.1020 - acc: 0.9679 - val_loss: 0.0378 - val_acc: 0.9869\n",
      "Epoch 8/25\n",
      "869/869 [==============================] - 196s 226ms/step - loss: 0.0913 - acc: 0.9704 - val_loss: 0.0345 - val_acc: 0.9895\n",
      "Epoch 9/25\n",
      "869/869 [==============================] - 189s 218ms/step - loss: 0.0833 - acc: 0.9731 - val_loss: 0.0263 - val_acc: 0.9925\n",
      "Epoch 10/25\n",
      "869/869 [==============================] - 207s 238ms/step - loss: 0.0776 - acc: 0.9744 - val_loss: 0.0331 - val_acc: 0.9905\n",
      "Epoch 11/25\n",
      "869/869 [==============================] - 222s 255ms/step - loss: 0.0696 - acc: 0.9776 - val_loss: 0.0165 - val_acc: 0.9945\n",
      "Epoch 12/25\n",
      "869/869 [==============================] - 200s 230ms/step - loss: 0.0653 - acc: 0.9792 - val_loss: 0.0194 - val_acc: 0.9934\n",
      "Epoch 13/25\n",
      "869/869 [==============================] - 205s 236ms/step - loss: 0.0639 - acc: 0.9800 - val_loss: 0.0222 - val_acc: 0.9934\n",
      "Epoch 14/25\n",
      "869/869 [==============================] - 205s 236ms/step - loss: 0.0666 - acc: 0.9797 - val_loss: 0.0131 - val_acc: 0.9958\n",
      "Epoch 15/25\n",
      "869/869 [==============================] - 205s 236ms/step - loss: 0.0519 - acc: 0.9837 - val_loss: 0.0129 - val_acc: 0.9964\n",
      "Epoch 16/25\n",
      "869/869 [==============================] - 206s 237ms/step - loss: 0.0557 - acc: 0.9825 - val_loss: 0.0192 - val_acc: 0.9944\n",
      "Epoch 17/25\n",
      "869/869 [==============================] - 206s 237ms/step - loss: 0.0506 - acc: 0.9838 - val_loss: 0.0181 - val_acc: 0.9941\n",
      "Epoch 18/25\n",
      "869/869 [==============================] - 207s 238ms/step - loss: 0.0494 - acc: 0.9846 - val_loss: 0.0135 - val_acc: 0.9961\n",
      "Epoch 19/25\n",
      "869/869 [==============================] - 203s 234ms/step - loss: 0.0321 - acc: 0.9899 - val_loss: 0.0057 - val_acc: 0.9984\n",
      "Epoch 20/25\n",
      "869/869 [==============================] - 208s 239ms/step - loss: 0.0303 - acc: 0.9903 - val_loss: 0.0066 - val_acc: 0.9976\n",
      "Epoch 21/25\n",
      "869/869 [==============================] - 209s 241ms/step - loss: 0.0254 - acc: 0.9925 - val_loss: 0.0062 - val_acc: 0.9983\n",
      "Epoch 22/25\n",
      "869/869 [==============================] - 210s 242ms/step - loss: 0.0249 - acc: 0.9919 - val_loss: 0.0067 - val_acc: 0.9974\n",
      "Epoch 23/25\n",
      "869/869 [==============================] - 210s 242ms/step - loss: 0.0198 - acc: 0.9933 - val_loss: 0.0051 - val_acc: 0.9986\n",
      "Epoch 24/25\n",
      "869/869 [==============================] - 211s 243ms/step - loss: 0.0206 - acc: 0.9941 - val_loss: 0.0052 - val_acc: 0.9986\n",
      "Epoch 25/25\n",
      "869/869 [==============================] - 208s 239ms/step - loss: 0.0178 - acc: 0.9947 - val_loss: 0.0051 - val_acc: 0.9984\n"
     ]
    },
    {
     "data": {
      "text/plain": [
       "<keras.callbacks.History at 0x7f56618cb550>"
      ]
     },
     "execution_count": 14,
     "metadata": {},
     "output_type": "execute_result"
    }
   ],
   "source": [
    "model.fit_generator(datagen.flow(x_train, y_train, batch_size=32), epochs=25, validation_data=(x_val,y_val), callbacks=[reduce_lr])"
   ]
  },
  {
   "cell_type": "code",
   "execution_count": 19,
   "metadata": {},
   "outputs": [
    {
     "name": "stdout",
     "output_type": "stream",
     "text": [
      "12630/12630 [==============================] - 28s 2ms/step\n",
      "test_set accuracy : 98.4323040352\n"
     ]
    }
   ],
   "source": [
    "score = model.evaluate(x_test,y_test)\n",
    "print \"test_set accuracy :\",score[1]*100"
   ]
  },
  {
   "cell_type": "code",
   "execution_count": null,
   "metadata": {
    "collapsed": true
   },
   "outputs": [],
   "source": []
  }
 ],
 "metadata": {
  "kernelspec": {
   "display_name": "Python 2",
   "language": "python",
   "name": "python2"
  },
  "language_info": {
   "codemirror_mode": {
    "name": "ipython",
    "version": 2
   },
   "file_extension": ".py",
   "mimetype": "text/x-python",
   "name": "python",
   "nbconvert_exporter": "python",
   "pygments_lexer": "ipython2",
   "version": "2.7.12"
  }
 },
 "nbformat": 4,
 "nbformat_minor": 2
}
